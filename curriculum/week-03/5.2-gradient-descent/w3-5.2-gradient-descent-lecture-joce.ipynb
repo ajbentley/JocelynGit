{
 "cells": [
  {
   "cell_type": "markdown",
   "metadata": {
    "slideshow": {
     "slide_type": "slide"
    }
   },
   "source": [
    "# ![](https://ga-dash.s3.amazonaws.com/production/assets/logo-9f88ae6c9c3871690e33280fcf557f33.png) Gradient descent\n",
    "Week 3 | Lesson 5.1\n",
    "\n",
    "\n"
   ]
  },
  {
   "cell_type": "markdown",
   "metadata": {
    "slideshow": {
     "slide_type": "slide"
    }
   },
   "source": [
    "### LEARNING OBJECTIVES\n",
    "*After this lesson, you will be able to:*\n",
    "\n",
    "- Describe the intuition behind gradient descent.\n",
    "- Recognize the use cases for gradient descent.\n",
    "- Explain when a gradient descent algorithm can get \"stuck\"."
   ]
  },
  {
   "cell_type": "markdown",
   "metadata": {
    "slideshow": {
     "slide_type": "slide"
    }
   },
   "source": [
    "### LESSON GUIDE\n",
    "| TIMING  | TYPE  | TOPIC  |\n",
    "|:-:|---|---|\n",
    "| 10 min  | [Demo](#demo)  | Gradient descent |\n",
    "| 10 min  | [Demo](#demo)  | Derivatives |\n",
    "| 20 min  | [Demo](#ind-practice)  | Least squares loss and partial derivatives  |\n",
    "| 30 min  | [Demo / Guided Practice](#demo)  | Coding the gradient descent  |\n",
    "| 10 min  | [Demo / Guided Practice](#ind-practice)  |  When gradient descent fails |\n",
    "| 5 min  | [Conclusion](#conclusion)  | |\n",
    "\n"
   ]
  },
  {
   "cell_type": "markdown",
   "metadata": {
    "slideshow": {
     "slide_type": "slide"
    }
   },
   "source": [
    "# Gradient descent\n",
    "\n",
    "Gradient descent is in essence an algorithm designed to minimize functions. \n",
    "\n",
    "> Check: what kinds of functions do we often want to minimize?"
   ]
  },
  {
   "cell_type": "markdown",
   "metadata": {
    "slideshow": {
     "slide_type": "slide"
    }
   },
   "source": [
    "Gradient descent is popular in machine learning and statistics for minimizing loss functions such as least squares.\n",
    "\n",
    "The gradient descent algorithim uses the derivative of the loss function to move in the direction where the loss function is \"descending\"."
   ]
  },
  {
   "cell_type": "markdown",
   "metadata": {
    "slideshow": {
     "slide_type": "slide"
    }
   },
   "source": [
    "## 1. Derivatives\n",
    "\n",
    "The derivative of a function measures the **rate of change** of the values of the function with respect to another quantity. \n",
    "\n",
    "We are not going to cover the calculus of derivatives today, but will give examples through explaining their use in gradient descent.\n",
    "\n",
    "Imagine the derivative as a tangent line on the edge of another function. For example, in the image below, if the black curve was the velocity of a car, the red tangent would represent the derivative of velocity at that point, which is the acceleration of the car.\n",
    "\n",
    "![derivative](https://camo.githubusercontent.com/2f70b084174b825e3ad88564301f9aaf46997fd3/68747470733a2f2f75706c6f61642e77696b696d656469612e6f72672f77696b6970656469612f636f6d6d6f6e732f302f30662f54616e67656e745f746f5f615f63757276652e737667)\n",
    "\n"
   ]
  },
  {
   "cell_type": "markdown",
   "metadata": {
    "slideshow": {
     "slide_type": "slide"
    }
   },
   "source": [
    "A derivative of a function indicates whether the function is **increasing or decreasing** based on the value of the derivative. \n",
    "\n",
    "* If the function is not changing (the tangent line is flat), **the derivative is 0**\n",
    "* If the function is increasing (the tangent slope is positive), **the derivative is positive**\n",
    "* If the function is decreasing (the tangent slope is negative), **the derivative is negative**"
   ]
  },
  {
   "cell_type": "markdown",
   "metadata": {
    "slideshow": {
     "slide_type": "slide"
    }
   },
   "source": [
    "## 2. The least squares loss and regression\n",
    "\n",
    "Recall the least squares loss from yesterday:\n",
    "\n",
    "### $$\\frac{1}{N}\\sum_{i=1}^N{\\left(y_i - \\hat{y}_i\\right)^2}$$\n",
    "\n",
    "As well as the formula for a linear regression with a single predictor variable:\n",
    "\n",
    "### $$y = \\beta_0 + \\beta_1x_1$$"
   ]
  },
  {
   "cell_type": "markdown",
   "metadata": {
    "slideshow": {
     "slide_type": "slide"
    }
   },
   "source": [
    "We can redefine the loss function, inserting the regression formula:\n",
    "\n",
    "### $$\\frac{1}{N}\\sum_{i=1}^N{\\left(y_i - (\\beta_0 + \\beta_1x_i)\\right)^2}$$"
   ]
  },
  {
   "cell_type": "markdown",
   "metadata": {
    "slideshow": {
     "slide_type": "slide"
    }
   },
   "source": [
    "## 3. Partial derivatives of the loss functions\n",
    "\n",
    "We are going to calculate the two **partial derivatives** of the loss function. Partial derivatives are derivatives with respect to one variable while keeping the other variables constant. Our partial derivatives will be:\n",
    "\n",
    "* The derivative of the loss function with respect to $\\beta_0$ (the intercept)\n",
    "* The derivative of the loss function with respect to $\\beta_1$ (the slope/coefficient for $x_1$)\n",
    "\n"
   ]
  },
  {
   "cell_type": "markdown",
   "metadata": {
    "slideshow": {
     "slide_type": "slide"
    }
   },
   "source": [
    "### $$\\frac{1}{N}\\sum_{i=1}^N{\\left(y_i - (\\beta_0 + \\beta_1x_i)\\right)^2}$$\n",
    "\n",
    "The error function is defined by these two parameters: each new value of the error function depends on the changes in  $\\beta_0$ and  $\\beta_1$. \n",
    "\n",
    "What about x and y? Those variables affect the calculation of the loss, but they are not changing here -- they're what we fit our model to as we try to find the best parameters."
   ]
  },
  {
   "cell_type": "markdown",
   "metadata": {
    "slideshow": {
     "slide_type": "slide"
    }
   },
   "source": [
    "**The partial derivative with respect to $\\beta_0$:**\n",
    "\n",
    "### $$\\frac{\\delta}{\\delta\\beta_0} = \\frac{2}{N}\\sum_{i=1}^N{-\\left(y_i - (\\beta_0 + \\beta_1x_1)\\right)}$$\n",
    "\n",
    "**The partial derivative with respect to $\\beta_1$:**\n",
    "\n",
    "### $$\\frac{\\delta}{\\delta\\beta_1} = \\frac{2}{N}\\sum_{i=1}^N{-x_i\\left(y_i - (\\beta_0 + \\beta_1x_1)\\right)}$$\n",
    "\n",
    "So what are we going to do with these partial derivatives?\n"
   ]
  },
  {
   "cell_type": "markdown",
   "metadata": {
    "slideshow": {
     "slide_type": "slide"
    }
   },
   "source": [
    "Together, these partial derivatives form a **vector** (visually speaking, a line pointing in some direction):\n",
    "\n",
    "$$\\langle \\frac{\\delta}{\\delta\\beta_0}, \\frac{\\delta}{\\delta\\beta_1} \\rangle$$\n",
    "\n",
    "This vector points in the **direction of the greatest increase of our loss function**.\n",
    "\n"
   ]
  },
  {
   "cell_type": "markdown",
   "metadata": {
    "slideshow": {
     "slide_type": "slide"
    }
   },
   "source": [
    "If we move in the **opposite direction**, by subtracting a fraction of the partial derivative of $\\beta_1$ from $\\beta_1$, and subtracting a fraction of the partial derivative of $\\beta_0$ from $\\beta_0$, we will modify $\\beta_1$ and $\\beta_0$ such that the value of the error function shrinks!\n",
    "\n",
    "We can repeat this incremental process until we reach the minimum of the function."
   ]
  },
  {
   "cell_type": "markdown",
   "metadata": {
    "slideshow": {
     "slide_type": "slide"
    }
   },
   "source": [
    "This is called gradient descent because **we are iteratively moving down the gradient of the error function to its minimum.**\n",
    "![](https://upload.wikimedia.org/wikipedia/commons/7/79/Gradient_descent.png)"
   ]
  },
  {
   "cell_type": "markdown",
   "metadata": {
    "slideshow": {
     "slide_type": "slide"
    }
   },
   "source": [
    "## FAQ:\n",
    "\n",
    "#### Q: How do we *actually* use this?\n",
    "A: *You* don't, but some of the machine learning algorithms you use will. The gradient descent algorithm uses specific \"step sizes\", which you may need to choose manually."
   ]
  },
  {
   "cell_type": "markdown",
   "metadata": {
    "slideshow": {
     "slide_type": "fragment"
    }
   },
   "source": [
    "#### Q: So do I need to be able to implement this in Python?\n",
    "A: No. But you want to understand the intuition, and know when gradient descent can take too long to run, or straight-up *fail*. Very occasionally this will cause problems for you and you need to recognize the cause."
   ]
  },
  {
   "cell_type": "markdown",
   "metadata": {
    "slideshow": {
     "slide_type": "fragment"
    }
   },
   "source": [
    "#### Q: Why are we learning this now?\n",
    "A: Broadly speaking, so you can recognize the role optimization algorithms play in your work."
   ]
  },
  {
   "cell_type": "markdown",
   "metadata": {
    "slideshow": {
     "slide_type": "slide"
    }
   },
   "source": [
    "## 4. Coding the gradient descent algorithm\n",
    "\n",
    "For the sake of illustration, let's code the gradient descent algorithm to find the optimal intercept and slope for a least squares linear regression model with one predictor.\n",
    "\n"
   ]
  },
  {
   "cell_type": "code",
   "execution_count": 1,
   "metadata": {
    "ExecuteTime": {
     "end_time": "2016-10-07T15:15:26.296053",
     "start_time": "2016-10-07T15:15:22.798260"
    },
    "collapsed": false,
    "slideshow": {
     "slide_type": "fragment"
    }
   },
   "outputs": [],
   "source": [
    "#Load some packages\n",
    "\n",
    "import numpy as np\n",
    "\n",
    "import matplotlib as mpl\n",
    "import matplotlib.pyplot as plt\n",
    "plt.style.use('fivethirtyeight')\n",
    "\n",
    "%matplotlib inline"
   ]
  },
  {
   "cell_type": "markdown",
   "metadata": {
    "slideshow": {
     "slide_type": "slide"
    }
   },
   "source": [
    "### The mean squared error loss function\n",
    "\n",
    "This function calculates the mean of the squared errors and will serve as our evaluator of the performance of our model:"
   ]
  },
  {
   "cell_type": "code",
   "execution_count": 2,
   "metadata": {
    "ExecuteTime": {
     "end_time": "2016-10-07T15:15:26.307195",
     "start_time": "2016-10-07T15:15:26.299102"
    },
    "collapsed": false,
    "slideshow": {
     "slide_type": "fragment"
    }
   },
   "outputs": [],
   "source": [
    "def mean_squared_error(y_true, x, beta0, beta1):\n",
    "    y_pred = beta0 + x * beta1\n",
    "    mean_sq_err = np.mean((y_true - y_pred)**2)\n",
    "    return mean_sq_err"
   ]
  },
  {
   "cell_type": "markdown",
   "metadata": {
    "slideshow": {
     "slide_type": "slide"
    }
   },
   "source": [
    "### Gradient update function\n",
    "\n",
    "This will update the values beta0 and beta1 using the partial derivatives and a step size to move along the gradient towards the minimum."
   ]
  },
  {
   "cell_type": "code",
   "execution_count": 3,
   "metadata": {
    "ExecuteTime": {
     "end_time": "2016-10-07T15:15:26.326112",
     "start_time": "2016-10-07T15:15:26.310565"
    },
    "collapsed": false,
    "slideshow": {
     "slide_type": "fragment"
    }
   },
   "outputs": [],
   "source": [
    "def gradient_update(y, x, beta0, beta1, step_size):\n",
    "    \n",
    "    beta0_gradient = 0\n",
    "    beta1_gradient = 0\n",
    "    \n",
    "    N = float(len(y))\n",
    "    \n",
    "    ## Calculate the gradient of the loss function by summing the gradient of each component of that loss function\n",
    "    for i in range(len(y)):\n",
    "        \n",
    "        # add to the beta0 gradient for each x,y using the partial derivative with respect to beta0\n",
    "        beta0_gradient += (2./N * -1 * (y[i] - (beta0 + beta1*x[i])))\n",
    "        \n",
    "        # add to the beta1 gradient for each x,y using the partial derivative with respect to beta1\n",
    "        beta1_gradient += (2./N * -1 * x[i] * (y[i] - (beta0 + beta1*x[i])))\n",
    "        \n",
    "    # update beta0 and beta1:\n",
    "    beta0 = beta0 - (step_size * beta0_gradient)\n",
    "    beta1 = beta1 - (step_size * beta1_gradient)\n",
    "    \n",
    "    return [beta0, beta1]"
   ]
  },
  {
   "cell_type": "markdown",
   "metadata": {
    "slideshow": {
     "slide_type": "slide"
    }
   },
   "source": [
    "### Gradient descent iteration function\n",
    "\n",
    "The last function will iterate multiple times, calling the gradient update function to incrementally change beta0 and beta1"
   ]
  },
  {
   "cell_type": "code",
   "execution_count": 4,
   "metadata": {
    "ExecuteTime": {
     "end_time": "2016-10-07T15:15:26.342365",
     "start_time": "2016-10-07T15:15:26.329550"
    },
    "collapsed": false,
    "slideshow": {
     "slide_type": "fragment"
    }
   },
   "outputs": [],
   "source": [
    "def gradient_descent_iterator(y, x, beta0, beta1, step_size=.0001, iterations=500):\n",
    "    \n",
    "    mean_squared_errors = []\n",
    "    mean_squared_errors.append(mean_squared_error(y, x, beta0, beta1))\n",
    "    \n",
    "    beta0s = [beta0]\n",
    "    beta1s = [beta1]\n",
    "    \n",
    "    for i in range(iterations):\n",
    "        [beta0, beta1] = gradient_update(y, x, beta0, beta1, step_size)\n",
    "        mean_squared_errors.append(mean_squared_error(y, x, beta0, beta1))\n",
    "        beta0s.append(beta0)\n",
    "        beta1s.append(beta1)\n",
    "        \n",
    "    return [mean_squared_errors, beta0s, beta1s]"
   ]
  },
  {
   "cell_type": "markdown",
   "metadata": {
    "slideshow": {
     "slide_type": "slide"
    }
   },
   "source": [
    "## 5. Run gradient descent on regression data\n",
    "\n",
    "First let's make some x and y variables like we did earlier this week."
   ]
  },
  {
   "cell_type": "code",
   "execution_count": 5,
   "metadata": {
    "ExecuteTime": {
     "end_time": "2016-10-07T15:15:27.875859",
     "start_time": "2016-10-07T15:15:27.222304"
    },
    "collapsed": false,
    "scrolled": false,
    "slideshow": {
     "slide_type": "fragment"
    }
   },
   "outputs": [
    {
     "data": {
      "image/png": "[encoded data removed]",
      "text/plain": [
       "<matplotlib.figure.Figure at 0x10a5c1f50>"
      ]
     },
     "metadata": {},
     "output_type": "display_data"
    }
   ],
   "source": [
    "x = np.random.random_sample(100)*100\n",
    "y = x + np.random.normal(np.random.normal(0,15), 30, size=100) + 100\n",
    "\n",
    "plt.figure(figsize=(10,8))\n",
    "\n",
    "plt.scatter(x, y, s=70, c='steelblue')\n",
    "\n",
    "plt.show()"
   ]
  },
  {
   "cell_type": "markdown",
   "metadata": {
    "slideshow": {
     "slide_type": "slide"
    }
   },
   "source": [
    "Then run the gradient descent algorithm, starting $\\beta_1$ and $\\beta_0$ both at 0."
   ]
  },
  {
   "cell_type": "code",
   "execution_count": 6,
   "metadata": {
    "ExecuteTime": {
     "end_time": "2016-10-07T15:15:28.439395",
     "start_time": "2016-10-07T15:15:28.243298"
    },
    "collapsed": false,
    "slideshow": {
     "slide_type": "fragment"
    }
   },
   "outputs": [],
   "source": [
    "[mses, beta0s, beta1s] = gradient_descent_iterator(y, x, 0, 0, step_size=0.0001)"
   ]
  },
  {
   "cell_type": "markdown",
   "metadata": {
    "slideshow": {
     "slide_type": "slide"
    }
   },
   "source": [
    "## 6. Plot the iterations of errors and betas\n",
    "\n",
    "You can see that with each iteration the mean squared error iteratively decreases:"
   ]
  },
  {
   "cell_type": "code",
   "execution_count": 7,
   "metadata": {
    "ExecuteTime": {
     "end_time": "2016-10-07T15:15:30.137930",
     "start_time": "2016-10-07T15:15:29.796799"
    },
    "collapsed": false,
    "slideshow": {
     "slide_type": "fragment"
    }
   },
   "outputs": [
    {
     "data": {
      "image/png": "[encoded data removed]",
      "text/plain": [
       "<matplotlib.figure.Figure at 0x10a5c1cd0>"
      ]
     },
     "metadata": {},
     "output_type": "display_data"
    }
   ],
   "source": [
    "plt.figure(figsize=(10,8))\n",
    "plt.scatter(range(len(mses)), mses, s=50, c='darkred')\n",
    "# plt.scatter(range(5), mses[0:5], s=50, c='darkred')\n",
    "plt.show()"
   ]
  },
  {
   "cell_type": "markdown",
   "metadata": {
    "slideshow": {
     "slide_type": "slide"
    }
   },
   "source": [
    "We can also plot the path of the $\\beta_0$s and $\\beta_1$s:"
   ]
  },
  {
   "cell_type": "code",
   "execution_count": 8,
   "metadata": {
    "ExecuteTime": {
     "end_time": "2016-10-07T15:15:30.939092",
     "start_time": "2016-10-07T15:15:30.566711"
    },
    "collapsed": false
   },
   "outputs": [
    {
     "data": {
      "image/png": "[encoded data removed]",
      "text/plain": [
       "<matplotlib.figure.Figure at 0x10f5b8e50>"
      ]
     },
     "metadata": {},
     "output_type": "display_data"
    }
   ],
   "source": [
    "plt.figure(figsize=(10,8))\n",
    "plt.scatter(beta0s, beta1s, s=70, c='purple')\n",
    "plt.show()"
   ]
  },
  {
   "cell_type": "markdown",
   "metadata": {
    "slideshow": {
     "slide_type": "slide"
    }
   },
   "source": [
    "And the regression lines at different points in the gradient descent process:"
   ]
  },
  {
   "cell_type": "code",
   "execution_count": 9,
   "metadata": {
    "ExecuteTime": {
     "end_time": "2016-10-07T15:15:31.635963",
     "start_time": "2016-10-07T15:15:31.252776"
    },
    "collapsed": false,
    "scrolled": false,
    "slideshow": {
     "slide_type": "fragment"
    }
   },
   "outputs": [
    {
     "data": {
      "image/png": "[encoded data removed]",
      "text/plain": [
       "<matplotlib.figure.Figure at 0x10f9cd510>"
      ]
     },
     "metadata": {},
     "output_type": "display_data"
    }
   ],
   "source": [
    "plt.figure(figsize=(10,8))\n",
    "axes = plt.gca()\n",
    "plt.scatter(x, y, s=70, c='steelblue')\n",
    "\n",
    "x_points = np.linspace(axes.get_xlim()[0], axes.get_xlim()[1], 100)\n",
    "plt.plot(x_points, x_points*beta1s[0] + beta0s[0], c='darkred', lw=3.5, ls='dashed', alpha=0.1)\n",
    "plt.plot(x_points, x_points*beta1s[25] + beta0s[25], c='darkred', lw=3.5, ls='dashed', alpha=0.2)\n",
    "plt.plot(x_points, x_points*beta1s[50] + beta0s[50], c='darkred', lw=3.5, ls='dashed', alpha=0.3)\n",
    "plt.plot(x_points, x_points*beta1s[50] + beta0s[75], c='darkred', lw=3.5, ls='dashed', alpha=0.4)\n",
    "plt.plot(x_points, x_points*beta1s[100] + beta0s[100], c='darkred', lw=3.5, ls='dashed', alpha=0.6)\n",
    "plt.plot(x_points, x_points*beta1s[150] + beta0s[150], c='darkred', lw=3.5, ls='dashed', alpha=0.8)\n",
    "plt.plot(x_points, x_points*beta1s[-1] + beta0s[-1], c='darkred', lw=3.5, alpha=1.0)\n",
    "\n",
    "plt.show()"
   ]
  },
  {
   "cell_type": "markdown",
   "metadata": {
    "slideshow": {
     "slide_type": "slide"
    }
   },
   "source": [
    "> Check: please re-explain this demonstration to your neighbor! "
   ]
  },
  {
   "cell_type": "markdown",
   "metadata": {
    "slideshow": {
     "slide_type": "slide"
    }
   },
   "source": [
    "## 7.  Gradient descent can fail\n",
    "\n",
    "One of the most fickle things about gradient descent is the step size (also known as learning rate). If this is not tuned properly, the algorithm may never converge and in fact explode into extreme values.\n",
    "\n",
    "Gradient descent also only works where there is a gradient to follow. Here is a toy example of a function where gradient descent will fail:\n",
    "\n",
    "$$f(x, y) = \\begin{cases}\n",
    "2 x^2 & \\quad \\text{if $x \\leq 1$}\\\\\n",
    "2  & \\quad \\text{else}\n",
    "\\end{cases}$$"
   ]
  },
  {
   "cell_type": "markdown",
   "metadata": {
    "slideshow": {
     "slide_type": "slide"
    }
   },
   "source": [
    "Gradient descent code for the function:"
   ]
  },
  {
   "cell_type": "code",
   "execution_count": 25,
   "metadata": {
    "ExecuteTime": {
     "end_time": "2016-10-07T15:20:51.112507",
     "start_time": "2016-10-07T15:20:51.098015"
    },
    "collapsed": false,
    "slideshow": {
     "slide_type": "fragment"
    }
   },
   "outputs": [],
   "source": [
    "def func(x):\n",
    "    if x <= 1:\n",
    "        return 2 * x * x\n",
    "    return 2\n",
    "\n",
    "def gradient(x):\n",
    "    if x <= 1:\n",
    "        return 4 * x\n",
    "    return 0\n",
    "\n",
    "def gradient_descent(x, l=0.1):\n",
    "    vector = np.array(x)\n",
    "    return vector - l * np.array(gradient(x))\n",
    "\n",
    "\n",
    "def iterate(x0, n=10):\n",
    "    xs = [x0]\n",
    "    ys = [func(x0)]\n",
    "    for i in range(n):\n",
    "        x = gradient_descent(xs[-1], l=0.4)\n",
    "        xs.append(x)\n",
    "        ys.append(func(x))\n",
    "    return xs, ys"
   ]
  },
  {
   "cell_type": "markdown",
   "metadata": {
    "slideshow": {
     "slide_type": "slide"
    }
   },
   "source": [
    "Run the gradient descent algorithm starting at **x = -1.5** first, then try it at **x = 2**:"
   ]
  },
  {
   "cell_type": "code",
   "execution_count": 26,
   "metadata": {
    "ExecuteTime": {
     "end_time": "2016-10-07T15:20:55.158284",
     "start_time": "2016-10-07T15:20:54.825868"
    },
    "collapsed": false,
    "slideshow": {
     "slide_type": "fragment"
    }
   },
   "outputs": [
    {
     "data": {
      "text/plain": [
       "<matplotlib.collections.PathCollection at 0x111aa7190>"
      ]
     },
     "execution_count": 26,
     "metadata": {},
     "output_type": "execute_result"
    },
    {
     "data": {
      "image/png": "[encoded data removed]",
      "text/plain": [
       "<matplotlib.figure.Figure at 0x111696e10>"
      ]
     },
     "metadata": {},
     "output_type": "display_data"
    }
   ],
   "source": [
    "xs = np.arange(-2, 3, 0.1)\n",
    "ys = map(func, xs)\n",
    "\n",
    "plt.figure(figsize=(10,8))\n",
    "plt.plot(xs, ys, alpha=0.5, ls='dashed')\n",
    "\n",
    "# Start gradient descent at x = -1.5\n",
    "xs2, ys2 = iterate(-1.5, n=10)\n",
    "plt.scatter(xs2, ys2, c='r', s=100)\n",
    "\n",
    "# Start gradient descent at x = 2; where does it go?\n",
    "xs2, ys2 = iterate(2, n=10)\n",
    "plt.scatter(xs2, ys2, c='y', s=300)"
   ]
  },
  {
   "cell_type": "markdown",
   "metadata": {
    "slideshow": {
     "slide_type": "slide"
    }
   },
   "source": [
    "# Supplementary resources\n",
    "\n",
    "On derivatives - https://www.khanacademy.org/math/calculus-home/differential-calculus/taking-derivatives\n",
    "\n",
    "On gradients - http://ocw.mit.edu/courses/mathematics/18-02sc-multivariable-calculus-fall-2010/2.-partial-derivatives/part-b-chain-rule-gradient-and-directional-derivatives/session-35-gradient-definition-perpendicular-to-level-curves/\n",
    "\n",
    "On gradient descent - https://spin.atomicobject.com/2014/06/24/gradient-descent-linear-regression/"
   ]
  }
 ],
 "metadata": {
  "celltoolbar": "Slideshow",
  "kernelspec": {
   "display_name": "Python 2",
   "language": "python",
   "name": "python2"
  },
  "language_info": {
   "codemirror_mode": {
    "name": "ipython",
    "version": 2
   },
   "file_extension": ".py",
   "mimetype": "text/x-python",
   "name": "python",
   "nbconvert_exporter": "python",
   "pygments_lexer": "ipython2",
   "version": "2.7.12"
  }
 },
 "nbformat": 4,
 "nbformat_minor": 0
}
