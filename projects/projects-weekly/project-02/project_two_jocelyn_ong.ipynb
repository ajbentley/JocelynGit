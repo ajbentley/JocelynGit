{
 "cells": [
  {
   "cell_type": "markdown",
   "metadata": {},
   "source": [
    "# Project 2: Billboard Hits"
   ]
  },
  {
   "cell_type": "markdown",
   "metadata": {},
   "source": [
    "## 1. About the data"
   ]
  },
  {
   "cell_type": "markdown",
   "metadata": {},
   "source": [
    "From [Wikipedia](https://en.wikipedia.org/wiki/Billboard_Hot_100)\n",
    "\n",
    "> The Billboard Hot 100 is the music industry standard record chart in the United States for singles, published weekly by Billboard magazine. **Chart rankings are based on radio play, online streaming, and sales (physical and digital).**"
   ]
  },
  {
   "cell_type": "markdown",
   "metadata": {},
   "source": [
    "Also [here](http://pitchfork.com/features/article/9378-i-know-you-got-soul-the-trouble-with-billboards-rbhip-hop-chart/)\n",
    "> Ideally, any effective genre chart—be it R&B, Latin, country, even alt-rock—doesn’t just track a particular strain of music, which can be marked by ever-changing boundaries and ultimately impossible to define. It’s meant to track an audience."
   ]
  },
  {
   "cell_type": "markdown",
   "metadata": {},
   "source": [
    "Another from [Wikipedia](https://en.wikipedia.org/wiki/Billboard_charts)\n",
    "> What separates the charts is which stations and stores are used; each musical genre has a core audience or retail group. Each genre's department at Billboard is headed up by a chart manager, who makes these determinations."
   ]
  },
  {
   "cell_type": "markdown",
   "metadata": {},
   "source": [
    "## 2. Problem statement"
   ]
  },
  {
   "cell_type": "markdown",
   "metadata": {},
   "source": [
    "- Does the length of a song affect how long it takes to peak in the top 100?\n",
    "- Does the amount of time a song takes to peak affect how long it stays in the top 100?\n",
    "- Does the period of the year in which a song enters the top 100 affect how far up the chart it can go?\n",
    "- Does the rank at which a track enters the top 100 affect whether it can eventually reach the top 10?"
   ]
  },
  {
   "cell_type": "markdown",
   "metadata": {},
   "source": [
    "## 3. Importing relevant libraries"
   ]
  },
  {
   "cell_type": "code",
   "execution_count": 1,
   "metadata": {
    "collapsed": false
   },
   "outputs": [],
   "source": [
    "import pandas as pd\n",
    "import numpy as np\n",
    "import matplotlib.pyplot as plt\n",
    "import seaborn as sns\n",
    "%matplotlib inline"
   ]
  },
  {
   "cell_type": "markdown",
   "metadata": {},
   "source": [
    "## 4. Loading the data"
   ]
  },
  {
   "cell_type": "code",
   "execution_count": 2,
   "metadata": {
    "collapsed": true
   },
   "outputs": [],
   "source": [
    "df = pd.read_csv('assets/billboard.csv', na_values='*')"
   ]
  },
  {
   "cell_type": "code",
   "execution_count": 3,
   "metadata": {
    "collapsed": false
   },
   "outputs": [
    {
     "data": {
      "text/html": [
       "<div>\n",
       "<table border=\"1\" class=\"dataframe\">\n",
       "  <thead>\n",
       "    <tr style=\"text-align: right;\">\n",
       "      <th></th>\n",
       "      <th>year</th>\n",
       "      <th>artist.inverted</th>\n",
       "      <th>track</th>\n",
       "      <th>time</th>\n",
       "      <th>genre</th>\n",
       "      <th>date.entered</th>\n",
       "      <th>date.peaked</th>\n",
       "      <th>x1st.week</th>\n",
       "      <th>x2nd.week</th>\n",
       "      <th>x3rd.week</th>\n",
       "      <th>...</th>\n",
       "      <th>x67th.week</th>\n",
       "      <th>x68th.week</th>\n",
       "      <th>x69th.week</th>\n",
       "      <th>x70th.week</th>\n",
       "      <th>x71st.week</th>\n",
       "      <th>x72nd.week</th>\n",
       "      <th>x73rd.week</th>\n",
       "      <th>x74th.week</th>\n",
       "      <th>x75th.week</th>\n",
       "      <th>x76th.week</th>\n",
       "    </tr>\n",
       "  </thead>\n",
       "  <tbody>\n",
       "    <tr>\n",
       "      <th>0</th>\n",
       "      <td>2000</td>\n",
       "      <td>Destiny's Child</td>\n",
       "      <td>Independent Women Part I</td>\n",
       "      <td>3,38,00 AM</td>\n",
       "      <td>Rock</td>\n",
       "      <td>September 23, 2000</td>\n",
       "      <td>November 18, 2000</td>\n",
       "      <td>78</td>\n",
       "      <td>63.0</td>\n",
       "      <td>49.0</td>\n",
       "      <td>...</td>\n",
       "      <td>NaN</td>\n",
       "      <td>NaN</td>\n",
       "      <td>NaN</td>\n",
       "      <td>NaN</td>\n",
       "      <td>NaN</td>\n",
       "      <td>NaN</td>\n",
       "      <td>NaN</td>\n",
       "      <td>NaN</td>\n",
       "      <td>NaN</td>\n",
       "      <td>NaN</td>\n",
       "    </tr>\n",
       "    <tr>\n",
       "      <th>1</th>\n",
       "      <td>2000</td>\n",
       "      <td>Santana</td>\n",
       "      <td>Maria, Maria</td>\n",
       "      <td>4,18,00 AM</td>\n",
       "      <td>Rock</td>\n",
       "      <td>February 12, 2000</td>\n",
       "      <td>April 8, 2000</td>\n",
       "      <td>15</td>\n",
       "      <td>8.0</td>\n",
       "      <td>6.0</td>\n",
       "      <td>...</td>\n",
       "      <td>NaN</td>\n",
       "      <td>NaN</td>\n",
       "      <td>NaN</td>\n",
       "      <td>NaN</td>\n",
       "      <td>NaN</td>\n",
       "      <td>NaN</td>\n",
       "      <td>NaN</td>\n",
       "      <td>NaN</td>\n",
       "      <td>NaN</td>\n",
       "      <td>NaN</td>\n",
       "    </tr>\n",
       "    <tr>\n",
       "      <th>2</th>\n",
       "      <td>2000</td>\n",
       "      <td>Savage Garden</td>\n",
       "      <td>I Knew I Loved You</td>\n",
       "      <td>4,07,00 AM</td>\n",
       "      <td>Rock</td>\n",
       "      <td>October 23, 1999</td>\n",
       "      <td>January 29, 2000</td>\n",
       "      <td>71</td>\n",
       "      <td>48.0</td>\n",
       "      <td>43.0</td>\n",
       "      <td>...</td>\n",
       "      <td>NaN</td>\n",
       "      <td>NaN</td>\n",
       "      <td>NaN</td>\n",
       "      <td>NaN</td>\n",
       "      <td>NaN</td>\n",
       "      <td>NaN</td>\n",
       "      <td>NaN</td>\n",
       "      <td>NaN</td>\n",
       "      <td>NaN</td>\n",
       "      <td>NaN</td>\n",
       "    </tr>\n",
       "    <tr>\n",
       "      <th>3</th>\n",
       "      <td>2000</td>\n",
       "      <td>Madonna</td>\n",
       "      <td>Music</td>\n",
       "      <td>3,45,00 AM</td>\n",
       "      <td>Rock</td>\n",
       "      <td>August 12, 2000</td>\n",
       "      <td>September 16, 2000</td>\n",
       "      <td>41</td>\n",
       "      <td>23.0</td>\n",
       "      <td>18.0</td>\n",
       "      <td>...</td>\n",
       "      <td>NaN</td>\n",
       "      <td>NaN</td>\n",
       "      <td>NaN</td>\n",
       "      <td>NaN</td>\n",
       "      <td>NaN</td>\n",
       "      <td>NaN</td>\n",
       "      <td>NaN</td>\n",
       "      <td>NaN</td>\n",
       "      <td>NaN</td>\n",
       "      <td>NaN</td>\n",
       "    </tr>\n",
       "    <tr>\n",
       "      <th>4</th>\n",
       "      <td>2000</td>\n",
       "      <td>Aguilera, Christina</td>\n",
       "      <td>Come On Over Baby (All I Want Is You)</td>\n",
       "      <td>3,38,00 AM</td>\n",
       "      <td>Rock</td>\n",
       "      <td>August 5, 2000</td>\n",
       "      <td>October 14, 2000</td>\n",
       "      <td>57</td>\n",
       "      <td>47.0</td>\n",
       "      <td>45.0</td>\n",
       "      <td>...</td>\n",
       "      <td>NaN</td>\n",
       "      <td>NaN</td>\n",
       "      <td>NaN</td>\n",
       "      <td>NaN</td>\n",
       "      <td>NaN</td>\n",
       "      <td>NaN</td>\n",
       "      <td>NaN</td>\n",
       "      <td>NaN</td>\n",
       "      <td>NaN</td>\n",
       "      <td>NaN</td>\n",
       "    </tr>\n",
       "  </tbody>\n",
       "</table>\n",
       "<p>5 rows × 83 columns</p>\n",
       "</div>"
      ],
      "text/plain": [
       "   year      artist.inverted                                  track  \\\n",
       "0  2000      Destiny's Child               Independent Women Part I   \n",
       "1  2000              Santana                           Maria, Maria   \n",
       "2  2000        Savage Garden                     I Knew I Loved You   \n",
       "3  2000              Madonna                                  Music   \n",
       "4  2000  Aguilera, Christina  Come On Over Baby (All I Want Is You)   \n",
       "\n",
       "         time genre        date.entered         date.peaked  x1st.week  \\\n",
       "0  3,38,00 AM  Rock  September 23, 2000   November 18, 2000         78   \n",
       "1  4,18,00 AM  Rock   February 12, 2000       April 8, 2000         15   \n",
       "2  4,07,00 AM  Rock    October 23, 1999    January 29, 2000         71   \n",
       "3  3,45,00 AM  Rock     August 12, 2000  September 16, 2000         41   \n",
       "4  3,38,00 AM  Rock      August 5, 2000    October 14, 2000         57   \n",
       "\n",
       "   x2nd.week  x3rd.week     ...      x67th.week  x68th.week  x69th.week  \\\n",
       "0       63.0       49.0     ...             NaN         NaN         NaN   \n",
       "1        8.0        6.0     ...             NaN         NaN         NaN   \n",
       "2       48.0       43.0     ...             NaN         NaN         NaN   \n",
       "3       23.0       18.0     ...             NaN         NaN         NaN   \n",
       "4       47.0       45.0     ...             NaN         NaN         NaN   \n",
       "\n",
       "   x70th.week  x71st.week  x72nd.week  x73rd.week  x74th.week  x75th.week  \\\n",
       "0         NaN         NaN         NaN         NaN         NaN         NaN   \n",
       "1         NaN         NaN         NaN         NaN         NaN         NaN   \n",
       "2         NaN         NaN         NaN         NaN         NaN         NaN   \n",
       "3         NaN         NaN         NaN         NaN         NaN         NaN   \n",
       "4         NaN         NaN         NaN         NaN         NaN         NaN   \n",
       "\n",
       "   x76th.week  \n",
       "0         NaN  \n",
       "1         NaN  \n",
       "2         NaN  \n",
       "3         NaN  \n",
       "4         NaN  \n",
       "\n",
       "[5 rows x 83 columns]"
      ]
     },
     "execution_count": 3,
     "metadata": {},
     "output_type": "execute_result"
    }
   ],
   "source": [
    "df.head()"
   ]
  },
  {
   "cell_type": "markdown",
   "metadata": {},
   "source": [
    "## 5. Risks & Assumptions"
   ]
  },
  {
   "cell_type": "markdown",
   "metadata": {
    "collapsed": true
   },
   "source": [
    "**Assumptions**\n",
    "- The data contains a record of the tracks which hit the top 100\n",
    "- The genre of the song/ artist is correctly categorized based on the radio stations that played it/ streaming data\n",
    "- The columns beginning with 'x' indicate a timeline, where x1st.week is the first week that the track enters the top 100\n",
    "- The columns beginning with 'x' contain the rank of the track if it was currently in the top 100 and a null value if it was no longer within  the top 100\n",
    "\n",
    "**Risks**\n",
    "- There may not be enough data to answer the problem statements\n",
    "    - Sample size is too small\n",
    "    - Data is only from 1 year"
   ]
  },
  {
   "cell_type": "markdown",
   "metadata": {},
   "source": [
    "## 6. Cleaning the data"
   ]
  },
  {
   "cell_type": "markdown",
   "metadata": {},
   "source": [
    "### a. Is the column 'year' useful?"
   ]
  },
  {
   "cell_type": "code",
   "execution_count": 4,
   "metadata": {
    "collapsed": false
   },
   "outputs": [
    {
     "data": {
      "text/plain": [
       "2000    317\n",
       "Name: year, dtype: int64"
      ]
     },
     "execution_count": 4,
     "metadata": {},
     "output_type": "execute_result"
    }
   ],
   "source": [
    "df['year'].value_counts()"
   ]
  },
  {
   "cell_type": "markdown",
   "metadata": {},
   "source": [
    "**There's only one value in the column so it wouldn't help much.**  \n",
    "i.e. The data contains a record of the tracks which hit the top 100 for the year 2000"
   ]
  },
  {
   "cell_type": "markdown",
   "metadata": {},
   "source": [
    "### b. Cleaning artist name column"
   ]
  },
  {
   "cell_type": "code",
   "execution_count": 5,
   "metadata": {
    "collapsed": false
   },
   "outputs": [],
   "source": [
    "names = df['artist.inverted'].unique()"
   ]
  },
  {
   "cell_type": "code",
   "execution_count": 6,
   "metadata": {
    "collapsed": false
   },
   "outputs": [
    {
     "name": "stdout",
     "output_type": "stream",
     "text": [
      "['2 Pac', '2Ge+her', '3 Doors Down', '504 Boyz', '98\\xa1', 'A*Teens', 'Aaliyah', 'Adams, Yolanda', 'Adkins, Trace', 'Aguilera, Christina', 'Alice Deejay', 'Allan, Gary', 'Amber', 'Anastacia', 'Anthony, Marc', 'Avant', 'BBMak', 'Backstreet Boys, The', 'Badu, Erkyah', 'Baha Men', 'Barenaked Ladies', 'Beenie Man', 'Before Dark', 'Bega, Lou', 'Big Punisher', 'Black Rob', 'Black, Clint', 'Blaque', 'Blige, Mary J.', 'Blink-182', 'Bloodhound Gang', 'Bon Jovi', 'Braxton, Toni', 'Brock, Chad', 'Brooks & Dunn', 'Brooks, Garth', 'Byrd, Tracy', 'Cagle, Chris', \"Cam'ron\", 'Carey, Mariah', 'Carter, Aaron', 'Carter, Torrey', 'Changing Faces', 'Chesney, Kenny', 'Clark Family Experience', 'Clark, Terri', 'Common', 'Counting Crows', 'Creed', 'Cyrus, Billy Ray', \"D'Angelo\", 'DMX', 'Da Brat', 'Davidson, Clay', 'De La Soul', \"Destiny's Child\", 'Diffie, Joe', 'Dion, Celine', 'Dixie Chicks, The', 'Dr. Dre', 'Drama', 'Dream', 'Eastsidaz, The', 'Eiffel 65', 'Elliott, Missy \"Misdemeanor\"', 'Eminem', 'En Vogue', 'Estefan, Gloria', 'Evans, Sara', 'Eve', 'Everclear', 'Fabian, Lara', 'Fatboy Slim', 'Filter', 'Foo Fighters', 'Fragma', 'Funkmaster Flex', 'Ghostface Killah', 'Gill, Vince', 'Gilman, Billy', 'Ginuwine', 'Goo Goo Dolls', 'Gray, Macy', 'Griggs, Andy', 'Guy', 'Hanson', 'Hart, Beth', 'Heatherly, Eric', 'Henley, Don', 'Herndon, Ty', 'Hill, Faith', 'Hoku', 'Hollister, Dave', 'Hot Boys', 'Houston, Whitney', 'IMx', 'Ice Cube', 'Ideal', 'Iglesias, Enrique', 'J-Shin', 'Ja Rule', 'Jackson, Alan', 'Jagged Edge', 'Janet', 'Jay-Z', 'Jean, Wyclef', 'Joe', 'John, Elton', 'Jones, Donell', 'Jordan, Montell', 'Juvenile', 'Kandi', 'Keith, Toby', 'Kelis', 'Kenny G', 'Kid Rock', 'Kravitz, Lenny', 'Kumbia Kings', 'LFO', 'LL Cool J', 'Larrieux, Amel', 'Lawrence, Tracy', 'Levert, Gerald', 'Lil Bow Wow', 'Lil Wayne', \"Lil' Kim\", \"Lil' Mo\", \"Lil' Zane\", 'Limp Bizkit', 'Lonestar', 'Lopez, Jennifer', 'Loveless, Patty', 'Lox', 'Lucy Pearl', 'Ludacris', 'M2M', 'Madison Avenue', 'Madonna', 'Martin, Ricky', 'Mary Mary', 'Master P', 'McBride, Martina', 'McEntire, Reba', 'McGraw, Tim', 'McKnight, Brian', 'Messina, Jo Dee', 'Metallica', 'Montgomery Gentry', 'Montgomery, John Michael', 'Moore, Chante', 'Moore, Mandy', 'Mumba, Samantha', 'Musiq', 'Mya', 'Mystikal', \"N'Sync\", 'Nas', 'Nelly', 'Next', 'Nine Days', 'No Doubt', 'Nu Flavor', 'Offspring, The', 'Paisley, Brad', 'Papa Roach', 'Pearl Jam', 'Pink', 'Price, Kelly', 'Profyle', 'Puff Daddy', 'Q-Tip', 'R.E.M.', 'Rascal Flatts', 'Raye, Collin', 'Red Hot Chili Peppers', 'Rimes, LeAnn', 'Rogers, Kenny', 'Ruff Endz', 'Sammie', 'Santana', 'Savage Garden', 'SheDaisy', 'Sheist, Shade', 'Shyne', 'Simpson, Jessica', 'Sisqo', 'Sister Hazel', 'Smash Mouth', 'Smith, Will', 'Son By Four', 'Sonique', 'SoulDecision', 'Spears, Britney', 'Spencer, Tracie', 'Splender', 'Sting', 'Stone Temple Pilots', 'Stone, Angie', 'Strait, George', 'Sugar Ray', 'TLC', 'Tamar', 'Tamia', 'Third Eye Blind', 'Thomas, Carl', 'Tippin, Aaron', 'Train', 'Trick Daddy', 'Trina', 'Tritt, Travis', 'Tuesday', 'Urban, Keith', 'Usher', 'Vassar, Phil', 'Vertical Horizon', 'Vitamin C', 'Walker, Clay', 'Wallflowers, The', 'Westlife', 'Williams, Robbie', 'Wills, Mark', 'Worley, Darryl', 'Wright, Chely', 'Yankee Grey', 'Yearwood, Trisha', 'Ying Yang Twins', 'Zombie Nation', 'matchbox twenty']\n"
     ]
    }
   ],
   "source": [
    "print sorted(names)"
   ]
  },
  {
   "cell_type": "markdown",
   "metadata": {},
   "source": [
    "**Seems like the names are in order (I tried to look through everything) and no further cleaning is required at the moment.**"
   ]
  },
  {
   "cell_type": "markdown",
   "metadata": {},
   "source": [
    "### c. What about the column 'time'?"
   ]
  },
  {
   "cell_type": "markdown",
   "metadata": {},
   "source": [
    "It looks like it refers to the length of the track. Let's format it to return length of the track in seconds."
   ]
  },
  {
   "cell_type": "markdown",
   "metadata": {},
   "source": [
    "Each value seems to be formatted: m,s,ms. For the purposes of this project, we will drop the millisecond(ms)."
   ]
  },
  {
   "cell_type": "code",
   "execution_count": 7,
   "metadata": {
    "collapsed": true
   },
   "outputs": [],
   "source": [
    "def get_sec(x):\n",
    "    x_list = x.split(',')\n",
    "    return int(x_list[0]) * 60 + int(x_list[1])\n"
   ]
  },
  {
   "cell_type": "code",
   "execution_count": 8,
   "metadata": {
    "collapsed": true
   },
   "outputs": [],
   "source": [
    "df['track_length_seconds'] = df['time'].map(get_sec)"
   ]
  },
  {
   "cell_type": "code",
   "execution_count": 9,
   "metadata": {
    "collapsed": false
   },
   "outputs": [
    {
     "data": {
      "text/html": [
       "<div>\n",
       "<table border=\"1\" class=\"dataframe\">\n",
       "  <thead>\n",
       "    <tr style=\"text-align: right;\">\n",
       "      <th></th>\n",
       "      <th>year</th>\n",
       "      <th>artist.inverted</th>\n",
       "      <th>track</th>\n",
       "      <th>time</th>\n",
       "      <th>genre</th>\n",
       "      <th>date.entered</th>\n",
       "      <th>date.peaked</th>\n",
       "      <th>x1st.week</th>\n",
       "      <th>x2nd.week</th>\n",
       "      <th>x3rd.week</th>\n",
       "      <th>...</th>\n",
       "      <th>x68th.week</th>\n",
       "      <th>x69th.week</th>\n",
       "      <th>x70th.week</th>\n",
       "      <th>x71st.week</th>\n",
       "      <th>x72nd.week</th>\n",
       "      <th>x73rd.week</th>\n",
       "      <th>x74th.week</th>\n",
       "      <th>x75th.week</th>\n",
       "      <th>x76th.week</th>\n",
       "      <th>track_length_seconds</th>\n",
       "    </tr>\n",
       "  </thead>\n",
       "  <tbody>\n",
       "    <tr>\n",
       "      <th>0</th>\n",
       "      <td>2000</td>\n",
       "      <td>Destiny's Child</td>\n",
       "      <td>Independent Women Part I</td>\n",
       "      <td>3,38,00 AM</td>\n",
       "      <td>Rock</td>\n",
       "      <td>September 23, 2000</td>\n",
       "      <td>November 18, 2000</td>\n",
       "      <td>78</td>\n",
       "      <td>63.0</td>\n",
       "      <td>49.0</td>\n",
       "      <td>...</td>\n",
       "      <td>NaN</td>\n",
       "      <td>NaN</td>\n",
       "      <td>NaN</td>\n",
       "      <td>NaN</td>\n",
       "      <td>NaN</td>\n",
       "      <td>NaN</td>\n",
       "      <td>NaN</td>\n",
       "      <td>NaN</td>\n",
       "      <td>NaN</td>\n",
       "      <td>218</td>\n",
       "    </tr>\n",
       "    <tr>\n",
       "      <th>1</th>\n",
       "      <td>2000</td>\n",
       "      <td>Santana</td>\n",
       "      <td>Maria, Maria</td>\n",
       "      <td>4,18,00 AM</td>\n",
       "      <td>Rock</td>\n",
       "      <td>February 12, 2000</td>\n",
       "      <td>April 8, 2000</td>\n",
       "      <td>15</td>\n",
       "      <td>8.0</td>\n",
       "      <td>6.0</td>\n",
       "      <td>...</td>\n",
       "      <td>NaN</td>\n",
       "      <td>NaN</td>\n",
       "      <td>NaN</td>\n",
       "      <td>NaN</td>\n",
       "      <td>NaN</td>\n",
       "      <td>NaN</td>\n",
       "      <td>NaN</td>\n",
       "      <td>NaN</td>\n",
       "      <td>NaN</td>\n",
       "      <td>258</td>\n",
       "    </tr>\n",
       "    <tr>\n",
       "      <th>2</th>\n",
       "      <td>2000</td>\n",
       "      <td>Savage Garden</td>\n",
       "      <td>I Knew I Loved You</td>\n",
       "      <td>4,07,00 AM</td>\n",
       "      <td>Rock</td>\n",
       "      <td>October 23, 1999</td>\n",
       "      <td>January 29, 2000</td>\n",
       "      <td>71</td>\n",
       "      <td>48.0</td>\n",
       "      <td>43.0</td>\n",
       "      <td>...</td>\n",
       "      <td>NaN</td>\n",
       "      <td>NaN</td>\n",
       "      <td>NaN</td>\n",
       "      <td>NaN</td>\n",
       "      <td>NaN</td>\n",
       "      <td>NaN</td>\n",
       "      <td>NaN</td>\n",
       "      <td>NaN</td>\n",
       "      <td>NaN</td>\n",
       "      <td>247</td>\n",
       "    </tr>\n",
       "    <tr>\n",
       "      <th>3</th>\n",
       "      <td>2000</td>\n",
       "      <td>Madonna</td>\n",
       "      <td>Music</td>\n",
       "      <td>3,45,00 AM</td>\n",
       "      <td>Rock</td>\n",
       "      <td>August 12, 2000</td>\n",
       "      <td>September 16, 2000</td>\n",
       "      <td>41</td>\n",
       "      <td>23.0</td>\n",
       "      <td>18.0</td>\n",
       "      <td>...</td>\n",
       "      <td>NaN</td>\n",
       "      <td>NaN</td>\n",
       "      <td>NaN</td>\n",
       "      <td>NaN</td>\n",
       "      <td>NaN</td>\n",
       "      <td>NaN</td>\n",
       "      <td>NaN</td>\n",
       "      <td>NaN</td>\n",
       "      <td>NaN</td>\n",
       "      <td>225</td>\n",
       "    </tr>\n",
       "    <tr>\n",
       "      <th>4</th>\n",
       "      <td>2000</td>\n",
       "      <td>Aguilera, Christina</td>\n",
       "      <td>Come On Over Baby (All I Want Is You)</td>\n",
       "      <td>3,38,00 AM</td>\n",
       "      <td>Rock</td>\n",
       "      <td>August 5, 2000</td>\n",
       "      <td>October 14, 2000</td>\n",
       "      <td>57</td>\n",
       "      <td>47.0</td>\n",
       "      <td>45.0</td>\n",
       "      <td>...</td>\n",
       "      <td>NaN</td>\n",
       "      <td>NaN</td>\n",
       "      <td>NaN</td>\n",
       "      <td>NaN</td>\n",
       "      <td>NaN</td>\n",
       "      <td>NaN</td>\n",
       "      <td>NaN</td>\n",
       "      <td>NaN</td>\n",
       "      <td>NaN</td>\n",
       "      <td>218</td>\n",
       "    </tr>\n",
       "  </tbody>\n",
       "</table>\n",
       "<p>5 rows × 84 columns</p>\n",
       "</div>"
      ],
      "text/plain": [
       "   year      artist.inverted                                  track  \\\n",
       "0  2000      Destiny's Child               Independent Women Part I   \n",
       "1  2000              Santana                           Maria, Maria   \n",
       "2  2000        Savage Garden                     I Knew I Loved You   \n",
       "3  2000              Madonna                                  Music   \n",
       "4  2000  Aguilera, Christina  Come On Over Baby (All I Want Is You)   \n",
       "\n",
       "         time genre        date.entered         date.peaked  x1st.week  \\\n",
       "0  3,38,00 AM  Rock  September 23, 2000   November 18, 2000         78   \n",
       "1  4,18,00 AM  Rock   February 12, 2000       April 8, 2000         15   \n",
       "2  4,07,00 AM  Rock    October 23, 1999    January 29, 2000         71   \n",
       "3  3,45,00 AM  Rock     August 12, 2000  September 16, 2000         41   \n",
       "4  3,38,00 AM  Rock      August 5, 2000    October 14, 2000         57   \n",
       "\n",
       "   x2nd.week  x3rd.week          ...           x68th.week  x69th.week  \\\n",
       "0       63.0       49.0          ...                  NaN         NaN   \n",
       "1        8.0        6.0          ...                  NaN         NaN   \n",
       "2       48.0       43.0          ...                  NaN         NaN   \n",
       "3       23.0       18.0          ...                  NaN         NaN   \n",
       "4       47.0       45.0          ...                  NaN         NaN   \n",
       "\n",
       "   x70th.week  x71st.week  x72nd.week  x73rd.week  x74th.week  x75th.week  \\\n",
       "0         NaN         NaN         NaN         NaN         NaN         NaN   \n",
       "1         NaN         NaN         NaN         NaN         NaN         NaN   \n",
       "2         NaN         NaN         NaN         NaN         NaN         NaN   \n",
       "3         NaN         NaN         NaN         NaN         NaN         NaN   \n",
       "4         NaN         NaN         NaN         NaN         NaN         NaN   \n",
       "\n",
       "   x76th.week  track_length_seconds  \n",
       "0         NaN                   218  \n",
       "1         NaN                   258  \n",
       "2         NaN                   247  \n",
       "3         NaN                   225  \n",
       "4         NaN                   218  \n",
       "\n",
       "[5 rows x 84 columns]"
      ]
     },
     "execution_count": 9,
     "metadata": {},
     "output_type": "execute_result"
    }
   ],
   "source": [
    "df.head()"
   ]
  },
  {
   "cell_type": "markdown",
   "metadata": {},
   "source": [
    "### d. Cleaning the 'genre' column"
   ]
  },
  {
   "cell_type": "code",
   "execution_count": 10,
   "metadata": {
    "collapsed": false
   },
   "outputs": [],
   "source": [
    "genres = df['genre'].unique()"
   ]
  },
  {
   "cell_type": "code",
   "execution_count": 11,
   "metadata": {
    "collapsed": false
   },
   "outputs": [
    {
     "name": "stdout",
     "output_type": "stream",
     "text": [
      "['Country', 'Electronica', 'Gospel', 'Jazz', 'Latin', 'Pop', 'R & B', 'R&B', 'Rap', 'Reggae', 'Rock', \"Rock'n'roll\"]\n"
     ]
    }
   ],
   "source": [
    "print sorted(genres)"
   ]
  },
  {
   "cell_type": "markdown",
   "metadata": {},
   "source": [
    "- Rock and Rock'n'roll will be combined to Rock\n",
    "- R & B and R&B will be combined to R&B"
   ]
  },
  {
   "cell_type": "code",
   "execution_count": 12,
   "metadata": {
    "collapsed": true
   },
   "outputs": [],
   "source": [
    "def clean_genre(x):\n",
    "    if x == 'R & B':\n",
    "        return 'R&B'\n",
    "    elif x == \"Rock'n'roll\":\n",
    "        return 'Rock'\n",
    "    else:\n",
    "        return x"
   ]
  },
  {
   "cell_type": "code",
   "execution_count": 13,
   "metadata": {
    "collapsed": true
   },
   "outputs": [],
   "source": [
    "df['genre_clean'] = df['genre'].map(clean_genre)"
   ]
  },
  {
   "cell_type": "code",
   "execution_count": 14,
   "metadata": {
    "collapsed": false
   },
   "outputs": [
    {
     "data": {
      "text/html": [
       "<div>\n",
       "<table border=\"1\" class=\"dataframe\">\n",
       "  <thead>\n",
       "    <tr style=\"text-align: right;\">\n",
       "      <th></th>\n",
       "      <th>count</th>\n",
       "      <th>percent</th>\n",
       "    </tr>\n",
       "  </thead>\n",
       "  <tbody>\n",
       "    <tr>\n",
       "      <th>Rock</th>\n",
       "      <td>137</td>\n",
       "      <td>13.7</td>\n",
       "    </tr>\n",
       "    <tr>\n",
       "      <th>Country</th>\n",
       "      <td>74</td>\n",
       "      <td>7.4</td>\n",
       "    </tr>\n",
       "    <tr>\n",
       "      <th>Rap</th>\n",
       "      <td>58</td>\n",
       "      <td>5.8</td>\n",
       "    </tr>\n",
       "    <tr>\n",
       "      <th>R&amp;B</th>\n",
       "      <td>23</td>\n",
       "      <td>2.3</td>\n",
       "    </tr>\n",
       "    <tr>\n",
       "      <th>Pop</th>\n",
       "      <td>9</td>\n",
       "      <td>0.9</td>\n",
       "    </tr>\n",
       "    <tr>\n",
       "      <th>Latin</th>\n",
       "      <td>9</td>\n",
       "      <td>0.9</td>\n",
       "    </tr>\n",
       "    <tr>\n",
       "      <th>Electronica</th>\n",
       "      <td>4</td>\n",
       "      <td>0.4</td>\n",
       "    </tr>\n",
       "    <tr>\n",
       "      <th>Gospel</th>\n",
       "      <td>1</td>\n",
       "      <td>0.1</td>\n",
       "    </tr>\n",
       "    <tr>\n",
       "      <th>Jazz</th>\n",
       "      <td>1</td>\n",
       "      <td>0.1</td>\n",
       "    </tr>\n",
       "    <tr>\n",
       "      <th>Reggae</th>\n",
       "      <td>1</td>\n",
       "      <td>0.1</td>\n",
       "    </tr>\n",
       "  </tbody>\n",
       "</table>\n",
       "</div>"
      ],
      "text/plain": [
       "             count  percent\n",
       "Rock           137     13.7\n",
       "Country         74      7.4\n",
       "Rap             58      5.8\n",
       "R&B             23      2.3\n",
       "Pop              9      0.9\n",
       "Latin            9      0.9\n",
       "Electronica      4      0.4\n",
       "Gospel           1      0.1\n",
       "Jazz             1      0.1\n",
       "Reggae           1      0.1"
      ]
     },
     "execution_count": 14,
     "metadata": {},
     "output_type": "execute_result"
    }
   ],
   "source": [
    "genre_df = pd.DataFrame(df['genre_clean'].value_counts())\n",
    "genre_df.columns = ['count']\n",
    "genre_df['percent'] = genre_df['count']/float(len(genre_df))\n",
    "genre_df"
   ]
  },
  {
   "cell_type": "markdown",
   "metadata": {},
   "source": [
    "- All records that make up less than 1% of the dataset will be combined as others"
   ]
  },
  {
   "cell_type": "code",
   "execution_count": 15,
   "metadata": {
    "collapsed": false
   },
   "outputs": [
    {
     "data": {
      "text/plain": [
       "array(['Rock', 'Latin', 'Country', 'Rap', 'Pop', 'Electronica', 'Jazz',\n",
       "       'R&B', 'Reggae', 'Gospel'], dtype=object)"
      ]
     },
     "execution_count": 15,
     "metadata": {},
     "output_type": "execute_result"
    }
   ],
   "source": [
    "genres = df['genre_clean'].unique()\n",
    "genres"
   ]
  },
  {
   "cell_type": "code",
   "execution_count": 16,
   "metadata": {
    "collapsed": true
   },
   "outputs": [],
   "source": [
    "def genre_others(g):\n",
    "    if g in genres[-6:]:\n",
    "        return \"Others\"\n",
    "    else:\n",
    "        return g"
   ]
  },
  {
   "cell_type": "code",
   "execution_count": 17,
   "metadata": {
    "collapsed": true
   },
   "outputs": [],
   "source": [
    "df['genre_clean'] = df['genre_clean'].map(genre_others)"
   ]
  },
  {
   "cell_type": "code",
   "execution_count": 18,
   "metadata": {
    "collapsed": false
   },
   "outputs": [
    {
     "data": {
      "text/html": [
       "<div>\n",
       "<table border=\"1\" class=\"dataframe\">\n",
       "  <thead>\n",
       "    <tr style=\"text-align: right;\">\n",
       "      <th></th>\n",
       "      <th>year</th>\n",
       "      <th>artist.inverted</th>\n",
       "      <th>track</th>\n",
       "      <th>time</th>\n",
       "      <th>genre</th>\n",
       "      <th>date.entered</th>\n",
       "      <th>date.peaked</th>\n",
       "      <th>x1st.week</th>\n",
       "      <th>x2nd.week</th>\n",
       "      <th>x3rd.week</th>\n",
       "      <th>...</th>\n",
       "      <th>x69th.week</th>\n",
       "      <th>x70th.week</th>\n",
       "      <th>x71st.week</th>\n",
       "      <th>x72nd.week</th>\n",
       "      <th>x73rd.week</th>\n",
       "      <th>x74th.week</th>\n",
       "      <th>x75th.week</th>\n",
       "      <th>x76th.week</th>\n",
       "      <th>track_length_seconds</th>\n",
       "      <th>genre_clean</th>\n",
       "    </tr>\n",
       "  </thead>\n",
       "  <tbody>\n",
       "    <tr>\n",
       "      <th>0</th>\n",
       "      <td>2000</td>\n",
       "      <td>Destiny's Child</td>\n",
       "      <td>Independent Women Part I</td>\n",
       "      <td>3,38,00 AM</td>\n",
       "      <td>Rock</td>\n",
       "      <td>September 23, 2000</td>\n",
       "      <td>November 18, 2000</td>\n",
       "      <td>78</td>\n",
       "      <td>63.0</td>\n",
       "      <td>49.0</td>\n",
       "      <td>...</td>\n",
       "      <td>NaN</td>\n",
       "      <td>NaN</td>\n",
       "      <td>NaN</td>\n",
       "      <td>NaN</td>\n",
       "      <td>NaN</td>\n",
       "      <td>NaN</td>\n",
       "      <td>NaN</td>\n",
       "      <td>NaN</td>\n",
       "      <td>218</td>\n",
       "      <td>Rock</td>\n",
       "    </tr>\n",
       "    <tr>\n",
       "      <th>1</th>\n",
       "      <td>2000</td>\n",
       "      <td>Santana</td>\n",
       "      <td>Maria, Maria</td>\n",
       "      <td>4,18,00 AM</td>\n",
       "      <td>Rock</td>\n",
       "      <td>February 12, 2000</td>\n",
       "      <td>April 8, 2000</td>\n",
       "      <td>15</td>\n",
       "      <td>8.0</td>\n",
       "      <td>6.0</td>\n",
       "      <td>...</td>\n",
       "      <td>NaN</td>\n",
       "      <td>NaN</td>\n",
       "      <td>NaN</td>\n",
       "      <td>NaN</td>\n",
       "      <td>NaN</td>\n",
       "      <td>NaN</td>\n",
       "      <td>NaN</td>\n",
       "      <td>NaN</td>\n",
       "      <td>258</td>\n",
       "      <td>Rock</td>\n",
       "    </tr>\n",
       "    <tr>\n",
       "      <th>2</th>\n",
       "      <td>2000</td>\n",
       "      <td>Savage Garden</td>\n",
       "      <td>I Knew I Loved You</td>\n",
       "      <td>4,07,00 AM</td>\n",
       "      <td>Rock</td>\n",
       "      <td>October 23, 1999</td>\n",
       "      <td>January 29, 2000</td>\n",
       "      <td>71</td>\n",
       "      <td>48.0</td>\n",
       "      <td>43.0</td>\n",
       "      <td>...</td>\n",
       "      <td>NaN</td>\n",
       "      <td>NaN</td>\n",
       "      <td>NaN</td>\n",
       "      <td>NaN</td>\n",
       "      <td>NaN</td>\n",
       "      <td>NaN</td>\n",
       "      <td>NaN</td>\n",
       "      <td>NaN</td>\n",
       "      <td>247</td>\n",
       "      <td>Rock</td>\n",
       "    </tr>\n",
       "    <tr>\n",
       "      <th>3</th>\n",
       "      <td>2000</td>\n",
       "      <td>Madonna</td>\n",
       "      <td>Music</td>\n",
       "      <td>3,45,00 AM</td>\n",
       "      <td>Rock</td>\n",
       "      <td>August 12, 2000</td>\n",
       "      <td>September 16, 2000</td>\n",
       "      <td>41</td>\n",
       "      <td>23.0</td>\n",
       "      <td>18.0</td>\n",
       "      <td>...</td>\n",
       "      <td>NaN</td>\n",
       "      <td>NaN</td>\n",
       "      <td>NaN</td>\n",
       "      <td>NaN</td>\n",
       "      <td>NaN</td>\n",
       "      <td>NaN</td>\n",
       "      <td>NaN</td>\n",
       "      <td>NaN</td>\n",
       "      <td>225</td>\n",
       "      <td>Rock</td>\n",
       "    </tr>\n",
       "    <tr>\n",
       "      <th>4</th>\n",
       "      <td>2000</td>\n",
       "      <td>Aguilera, Christina</td>\n",
       "      <td>Come On Over Baby (All I Want Is You)</td>\n",
       "      <td>3,38,00 AM</td>\n",
       "      <td>Rock</td>\n",
       "      <td>August 5, 2000</td>\n",
       "      <td>October 14, 2000</td>\n",
       "      <td>57</td>\n",
       "      <td>47.0</td>\n",
       "      <td>45.0</td>\n",
       "      <td>...</td>\n",
       "      <td>NaN</td>\n",
       "      <td>NaN</td>\n",
       "      <td>NaN</td>\n",
       "      <td>NaN</td>\n",
       "      <td>NaN</td>\n",
       "      <td>NaN</td>\n",
       "      <td>NaN</td>\n",
       "      <td>NaN</td>\n",
       "      <td>218</td>\n",
       "      <td>Rock</td>\n",
       "    </tr>\n",
       "  </tbody>\n",
       "</table>\n",
       "<p>5 rows × 85 columns</p>\n",
       "</div>"
      ],
      "text/plain": [
       "   year      artist.inverted                                  track  \\\n",
       "0  2000      Destiny's Child               Independent Women Part I   \n",
       "1  2000              Santana                           Maria, Maria   \n",
       "2  2000        Savage Garden                     I Knew I Loved You   \n",
       "3  2000              Madonna                                  Music   \n",
       "4  2000  Aguilera, Christina  Come On Over Baby (All I Want Is You)   \n",
       "\n",
       "         time genre        date.entered         date.peaked  x1st.week  \\\n",
       "0  3,38,00 AM  Rock  September 23, 2000   November 18, 2000         78   \n",
       "1  4,18,00 AM  Rock   February 12, 2000       April 8, 2000         15   \n",
       "2  4,07,00 AM  Rock    October 23, 1999    January 29, 2000         71   \n",
       "3  3,45,00 AM  Rock     August 12, 2000  September 16, 2000         41   \n",
       "4  3,38,00 AM  Rock      August 5, 2000    October 14, 2000         57   \n",
       "\n",
       "   x2nd.week  x3rd.week     ...       x69th.week  x70th.week  x71st.week  \\\n",
       "0       63.0       49.0     ...              NaN         NaN         NaN   \n",
       "1        8.0        6.0     ...              NaN         NaN         NaN   \n",
       "2       48.0       43.0     ...              NaN         NaN         NaN   \n",
       "3       23.0       18.0     ...              NaN         NaN         NaN   \n",
       "4       47.0       45.0     ...              NaN         NaN         NaN   \n",
       "\n",
       "   x72nd.week  x73rd.week  x74th.week  x75th.week  x76th.week  \\\n",
       "0         NaN         NaN         NaN         NaN         NaN   \n",
       "1         NaN         NaN         NaN         NaN         NaN   \n",
       "2         NaN         NaN         NaN         NaN         NaN   \n",
       "3         NaN         NaN         NaN         NaN         NaN   \n",
       "4         NaN         NaN         NaN         NaN         NaN   \n",
       "\n",
       "   track_length_seconds  genre_clean  \n",
       "0                   218         Rock  \n",
       "1                   258         Rock  \n",
       "2                   247         Rock  \n",
       "3                   225         Rock  \n",
       "4                   218         Rock  \n",
       "\n",
       "[5 rows x 85 columns]"
      ]
     },
     "execution_count": 18,
     "metadata": {},
     "output_type": "execute_result"
    }
   ],
   "source": [
    "df.head()"
   ]
  },
  {
   "cell_type": "markdown",
   "metadata": {},
   "source": [
    "#### Let's make genres a numerical column"
   ]
  },
  {
   "cell_type": "code",
   "execution_count": 19,
   "metadata": {
    "collapsed": false
   },
   "outputs": [],
   "source": [
    "genres = df['genre_clean'].unique()"
   ]
  },
  {
   "cell_type": "code",
   "execution_count": 20,
   "metadata": {
    "collapsed": false
   },
   "outputs": [],
   "source": [
    "genre_num = {x:genres[x] for x in range(len(genres))}\n",
    "def genre_to_num(g):\n",
    "    for i in genre_num:\n",
    "        if genre_num[i] == g:\n",
    "            return i"
   ]
  },
  {
   "cell_type": "code",
   "execution_count": 21,
   "metadata": {
    "collapsed": false
   },
   "outputs": [
    {
     "data": {
      "text/plain": [
       "{0: 'Rock', 1: 'Latin', 2: 'Country', 3: 'Rap', 4: 'Others'}"
      ]
     },
     "execution_count": 21,
     "metadata": {},
     "output_type": "execute_result"
    }
   ],
   "source": [
    "genre_num"
   ]
  },
  {
   "cell_type": "code",
   "execution_count": 22,
   "metadata": {
    "collapsed": false
   },
   "outputs": [],
   "source": [
    "df['genre_cat'] = df['genre_clean'].map(genre_to_num)"
   ]
  },
  {
   "cell_type": "code",
   "execution_count": 23,
   "metadata": {
    "collapsed": false
   },
   "outputs": [
    {
     "data": {
      "text/html": [
       "<div>\n",
       "<table border=\"1\" class=\"dataframe\">\n",
       "  <thead>\n",
       "    <tr style=\"text-align: right;\">\n",
       "      <th></th>\n",
       "      <th>year</th>\n",
       "      <th>artist.inverted</th>\n",
       "      <th>track</th>\n",
       "      <th>time</th>\n",
       "      <th>genre</th>\n",
       "      <th>date.entered</th>\n",
       "      <th>date.peaked</th>\n",
       "      <th>x1st.week</th>\n",
       "      <th>x2nd.week</th>\n",
       "      <th>x3rd.week</th>\n",
       "      <th>...</th>\n",
       "      <th>x70th.week</th>\n",
       "      <th>x71st.week</th>\n",
       "      <th>x72nd.week</th>\n",
       "      <th>x73rd.week</th>\n",
       "      <th>x74th.week</th>\n",
       "      <th>x75th.week</th>\n",
       "      <th>x76th.week</th>\n",
       "      <th>track_length_seconds</th>\n",
       "      <th>genre_clean</th>\n",
       "      <th>genre_cat</th>\n",
       "    </tr>\n",
       "  </thead>\n",
       "  <tbody>\n",
       "    <tr>\n",
       "      <th>0</th>\n",
       "      <td>2000</td>\n",
       "      <td>Destiny's Child</td>\n",
       "      <td>Independent Women Part I</td>\n",
       "      <td>3,38,00 AM</td>\n",
       "      <td>Rock</td>\n",
       "      <td>September 23, 2000</td>\n",
       "      <td>November 18, 2000</td>\n",
       "      <td>78</td>\n",
       "      <td>63.0</td>\n",
       "      <td>49.0</td>\n",
       "      <td>...</td>\n",
       "      <td>NaN</td>\n",
       "      <td>NaN</td>\n",
       "      <td>NaN</td>\n",
       "      <td>NaN</td>\n",
       "      <td>NaN</td>\n",
       "      <td>NaN</td>\n",
       "      <td>NaN</td>\n",
       "      <td>218</td>\n",
       "      <td>Rock</td>\n",
       "      <td>0</td>\n",
       "    </tr>\n",
       "    <tr>\n",
       "      <th>1</th>\n",
       "      <td>2000</td>\n",
       "      <td>Santana</td>\n",
       "      <td>Maria, Maria</td>\n",
       "      <td>4,18,00 AM</td>\n",
       "      <td>Rock</td>\n",
       "      <td>February 12, 2000</td>\n",
       "      <td>April 8, 2000</td>\n",
       "      <td>15</td>\n",
       "      <td>8.0</td>\n",
       "      <td>6.0</td>\n",
       "      <td>...</td>\n",
       "      <td>NaN</td>\n",
       "      <td>NaN</td>\n",
       "      <td>NaN</td>\n",
       "      <td>NaN</td>\n",
       "      <td>NaN</td>\n",
       "      <td>NaN</td>\n",
       "      <td>NaN</td>\n",
       "      <td>258</td>\n",
       "      <td>Rock</td>\n",
       "      <td>0</td>\n",
       "    </tr>\n",
       "    <tr>\n",
       "      <th>2</th>\n",
       "      <td>2000</td>\n",
       "      <td>Savage Garden</td>\n",
       "      <td>I Knew I Loved You</td>\n",
       "      <td>4,07,00 AM</td>\n",
       "      <td>Rock</td>\n",
       "      <td>October 23, 1999</td>\n",
       "      <td>January 29, 2000</td>\n",
       "      <td>71</td>\n",
       "      <td>48.0</td>\n",
       "      <td>43.0</td>\n",
       "      <td>...</td>\n",
       "      <td>NaN</td>\n",
       "      <td>NaN</td>\n",
       "      <td>NaN</td>\n",
       "      <td>NaN</td>\n",
       "      <td>NaN</td>\n",
       "      <td>NaN</td>\n",
       "      <td>NaN</td>\n",
       "      <td>247</td>\n",
       "      <td>Rock</td>\n",
       "      <td>0</td>\n",
       "    </tr>\n",
       "    <tr>\n",
       "      <th>3</th>\n",
       "      <td>2000</td>\n",
       "      <td>Madonna</td>\n",
       "      <td>Music</td>\n",
       "      <td>3,45,00 AM</td>\n",
       "      <td>Rock</td>\n",
       "      <td>August 12, 2000</td>\n",
       "      <td>September 16, 2000</td>\n",
       "      <td>41</td>\n",
       "      <td>23.0</td>\n",
       "      <td>18.0</td>\n",
       "      <td>...</td>\n",
       "      <td>NaN</td>\n",
       "      <td>NaN</td>\n",
       "      <td>NaN</td>\n",
       "      <td>NaN</td>\n",
       "      <td>NaN</td>\n",
       "      <td>NaN</td>\n",
       "      <td>NaN</td>\n",
       "      <td>225</td>\n",
       "      <td>Rock</td>\n",
       "      <td>0</td>\n",
       "    </tr>\n",
       "    <tr>\n",
       "      <th>4</th>\n",
       "      <td>2000</td>\n",
       "      <td>Aguilera, Christina</td>\n",
       "      <td>Come On Over Baby (All I Want Is You)</td>\n",
       "      <td>3,38,00 AM</td>\n",
       "      <td>Rock</td>\n",
       "      <td>August 5, 2000</td>\n",
       "      <td>October 14, 2000</td>\n",
       "      <td>57</td>\n",
       "      <td>47.0</td>\n",
       "      <td>45.0</td>\n",
       "      <td>...</td>\n",
       "      <td>NaN</td>\n",
       "      <td>NaN</td>\n",
       "      <td>NaN</td>\n",
       "      <td>NaN</td>\n",
       "      <td>NaN</td>\n",
       "      <td>NaN</td>\n",
       "      <td>NaN</td>\n",
       "      <td>218</td>\n",
       "      <td>Rock</td>\n",
       "      <td>0</td>\n",
       "    </tr>\n",
       "  </tbody>\n",
       "</table>\n",
       "<p>5 rows × 86 columns</p>\n",
       "</div>"
      ],
      "text/plain": [
       "   year      artist.inverted                                  track  \\\n",
       "0  2000      Destiny's Child               Independent Women Part I   \n",
       "1  2000              Santana                           Maria, Maria   \n",
       "2  2000        Savage Garden                     I Knew I Loved You   \n",
       "3  2000              Madonna                                  Music   \n",
       "4  2000  Aguilera, Christina  Come On Over Baby (All I Want Is You)   \n",
       "\n",
       "         time genre        date.entered         date.peaked  x1st.week  \\\n",
       "0  3,38,00 AM  Rock  September 23, 2000   November 18, 2000         78   \n",
       "1  4,18,00 AM  Rock   February 12, 2000       April 8, 2000         15   \n",
       "2  4,07,00 AM  Rock    October 23, 1999    January 29, 2000         71   \n",
       "3  3,45,00 AM  Rock     August 12, 2000  September 16, 2000         41   \n",
       "4  3,38,00 AM  Rock      August 5, 2000    October 14, 2000         57   \n",
       "\n",
       "   x2nd.week  x3rd.week    ...      x70th.week  x71st.week  x72nd.week  \\\n",
       "0       63.0       49.0    ...             NaN         NaN         NaN   \n",
       "1        8.0        6.0    ...             NaN         NaN         NaN   \n",
       "2       48.0       43.0    ...             NaN         NaN         NaN   \n",
       "3       23.0       18.0    ...             NaN         NaN         NaN   \n",
       "4       47.0       45.0    ...             NaN         NaN         NaN   \n",
       "\n",
       "   x73rd.week  x74th.week  x75th.week  x76th.week  track_length_seconds  \\\n",
       "0         NaN         NaN         NaN         NaN                   218   \n",
       "1         NaN         NaN         NaN         NaN                   258   \n",
       "2         NaN         NaN         NaN         NaN                   247   \n",
       "3         NaN         NaN         NaN         NaN                   225   \n",
       "4         NaN         NaN         NaN         NaN                   218   \n",
       "\n",
       "   genre_clean  genre_cat  \n",
       "0         Rock          0  \n",
       "1         Rock          0  \n",
       "2         Rock          0  \n",
       "3         Rock          0  \n",
       "4         Rock          0  \n",
       "\n",
       "[5 rows x 86 columns]"
      ]
     },
     "execution_count": 23,
     "metadata": {},
     "output_type": "execute_result"
    }
   ],
   "source": [
    "df.head()"
   ]
  },
  {
   "cell_type": "markdown",
   "metadata": {},
   "source": [
    "### e. Formatting the columns 'date.entered' and 'date.peaked'"
   ]
  },
  {
   "cell_type": "code",
   "execution_count": 24,
   "metadata": {
    "collapsed": true
   },
   "outputs": [],
   "source": [
    "df['date_entered'] = df['date.entered'].map(pd.to_datetime)\n",
    "df['date_peaked'] = df['date.peaked'].map(pd.to_datetime)"
   ]
  },
  {
   "cell_type": "code",
   "execution_count": 25,
   "metadata": {
    "collapsed": false,
    "scrolled": true
   },
   "outputs": [
    {
     "data": {
      "text/html": [
       "<div>\n",
       "<table border=\"1\" class=\"dataframe\">\n",
       "  <thead>\n",
       "    <tr style=\"text-align: right;\">\n",
       "      <th></th>\n",
       "      <th>year</th>\n",
       "      <th>artist.inverted</th>\n",
       "      <th>track</th>\n",
       "      <th>time</th>\n",
       "      <th>genre</th>\n",
       "      <th>date.entered</th>\n",
       "      <th>date.peaked</th>\n",
       "      <th>x1st.week</th>\n",
       "      <th>x2nd.week</th>\n",
       "      <th>x3rd.week</th>\n",
       "      <th>...</th>\n",
       "      <th>x72nd.week</th>\n",
       "      <th>x73rd.week</th>\n",
       "      <th>x74th.week</th>\n",
       "      <th>x75th.week</th>\n",
       "      <th>x76th.week</th>\n",
       "      <th>track_length_seconds</th>\n",
       "      <th>genre_clean</th>\n",
       "      <th>genre_cat</th>\n",
       "      <th>date_entered</th>\n",
       "      <th>date_peaked</th>\n",
       "    </tr>\n",
       "  </thead>\n",
       "  <tbody>\n",
       "    <tr>\n",
       "      <th>0</th>\n",
       "      <td>2000</td>\n",
       "      <td>Destiny's Child</td>\n",
       "      <td>Independent Women Part I</td>\n",
       "      <td>3,38,00 AM</td>\n",
       "      <td>Rock</td>\n",
       "      <td>September 23, 2000</td>\n",
       "      <td>November 18, 2000</td>\n",
       "      <td>78</td>\n",
       "      <td>63.0</td>\n",
       "      <td>49.0</td>\n",
       "      <td>...</td>\n",
       "      <td>NaN</td>\n",
       "      <td>NaN</td>\n",
       "      <td>NaN</td>\n",
       "      <td>NaN</td>\n",
       "      <td>NaN</td>\n",
       "      <td>218</td>\n",
       "      <td>Rock</td>\n",
       "      <td>0</td>\n",
       "      <td>2000-09-23</td>\n",
       "      <td>2000-11-18</td>\n",
       "    </tr>\n",
       "    <tr>\n",
       "      <th>1</th>\n",
       "      <td>2000</td>\n",
       "      <td>Santana</td>\n",
       "      <td>Maria, Maria</td>\n",
       "      <td>4,18,00 AM</td>\n",
       "      <td>Rock</td>\n",
       "      <td>February 12, 2000</td>\n",
       "      <td>April 8, 2000</td>\n",
       "      <td>15</td>\n",
       "      <td>8.0</td>\n",
       "      <td>6.0</td>\n",
       "      <td>...</td>\n",
       "      <td>NaN</td>\n",
       "      <td>NaN</td>\n",
       "      <td>NaN</td>\n",
       "      <td>NaN</td>\n",
       "      <td>NaN</td>\n",
       "      <td>258</td>\n",
       "      <td>Rock</td>\n",
       "      <td>0</td>\n",
       "      <td>2000-02-12</td>\n",
       "      <td>2000-04-08</td>\n",
       "    </tr>\n",
       "    <tr>\n",
       "      <th>2</th>\n",
       "      <td>2000</td>\n",
       "      <td>Savage Garden</td>\n",
       "      <td>I Knew I Loved You</td>\n",
       "      <td>4,07,00 AM</td>\n",
       "      <td>Rock</td>\n",
       "      <td>October 23, 1999</td>\n",
       "      <td>January 29, 2000</td>\n",
       "      <td>71</td>\n",
       "      <td>48.0</td>\n",
       "      <td>43.0</td>\n",
       "      <td>...</td>\n",
       "      <td>NaN</td>\n",
       "      <td>NaN</td>\n",
       "      <td>NaN</td>\n",
       "      <td>NaN</td>\n",
       "      <td>NaN</td>\n",
       "      <td>247</td>\n",
       "      <td>Rock</td>\n",
       "      <td>0</td>\n",
       "      <td>1999-10-23</td>\n",
       "      <td>2000-01-29</td>\n",
       "    </tr>\n",
       "    <tr>\n",
       "      <th>3</th>\n",
       "      <td>2000</td>\n",
       "      <td>Madonna</td>\n",
       "      <td>Music</td>\n",
       "      <td>3,45,00 AM</td>\n",
       "      <td>Rock</td>\n",
       "      <td>August 12, 2000</td>\n",
       "      <td>September 16, 2000</td>\n",
       "      <td>41</td>\n",
       "      <td>23.0</td>\n",
       "      <td>18.0</td>\n",
       "      <td>...</td>\n",
       "      <td>NaN</td>\n",
       "      <td>NaN</td>\n",
       "      <td>NaN</td>\n",
       "      <td>NaN</td>\n",
       "      <td>NaN</td>\n",
       "      <td>225</td>\n",
       "      <td>Rock</td>\n",
       "      <td>0</td>\n",
       "      <td>2000-08-12</td>\n",
       "      <td>2000-09-16</td>\n",
       "    </tr>\n",
       "    <tr>\n",
       "      <th>4</th>\n",
       "      <td>2000</td>\n",
       "      <td>Aguilera, Christina</td>\n",
       "      <td>Come On Over Baby (All I Want Is You)</td>\n",
       "      <td>3,38,00 AM</td>\n",
       "      <td>Rock</td>\n",
       "      <td>August 5, 2000</td>\n",
       "      <td>October 14, 2000</td>\n",
       "      <td>57</td>\n",
       "      <td>47.0</td>\n",
       "      <td>45.0</td>\n",
       "      <td>...</td>\n",
       "      <td>NaN</td>\n",
       "      <td>NaN</td>\n",
       "      <td>NaN</td>\n",
       "      <td>NaN</td>\n",
       "      <td>NaN</td>\n",
       "      <td>218</td>\n",
       "      <td>Rock</td>\n",
       "      <td>0</td>\n",
       "      <td>2000-08-05</td>\n",
       "      <td>2000-10-14</td>\n",
       "    </tr>\n",
       "  </tbody>\n",
       "</table>\n",
       "<p>5 rows × 88 columns</p>\n",
       "</div>"
      ],
      "text/plain": [
       "   year      artist.inverted                                  track  \\\n",
       "0  2000      Destiny's Child               Independent Women Part I   \n",
       "1  2000              Santana                           Maria, Maria   \n",
       "2  2000        Savage Garden                     I Knew I Loved You   \n",
       "3  2000              Madonna                                  Music   \n",
       "4  2000  Aguilera, Christina  Come On Over Baby (All I Want Is You)   \n",
       "\n",
       "         time genre        date.entered         date.peaked  x1st.week  \\\n",
       "0  3,38,00 AM  Rock  September 23, 2000   November 18, 2000         78   \n",
       "1  4,18,00 AM  Rock   February 12, 2000       April 8, 2000         15   \n",
       "2  4,07,00 AM  Rock    October 23, 1999    January 29, 2000         71   \n",
       "3  3,45,00 AM  Rock     August 12, 2000  September 16, 2000         41   \n",
       "4  3,38,00 AM  Rock      August 5, 2000    October 14, 2000         57   \n",
       "\n",
       "   x2nd.week  x3rd.week     ...       x72nd.week  x73rd.week  x74th.week  \\\n",
       "0       63.0       49.0     ...              NaN         NaN         NaN   \n",
       "1        8.0        6.0     ...              NaN         NaN         NaN   \n",
       "2       48.0       43.0     ...              NaN         NaN         NaN   \n",
       "3       23.0       18.0     ...              NaN         NaN         NaN   \n",
       "4       47.0       45.0     ...              NaN         NaN         NaN   \n",
       "\n",
       "   x75th.week  x76th.week  track_length_seconds  genre_clean  genre_cat  \\\n",
       "0         NaN         NaN                   218         Rock          0   \n",
       "1         NaN         NaN                   258         Rock          0   \n",
       "2         NaN         NaN                   247         Rock          0   \n",
       "3         NaN         NaN                   225         Rock          0   \n",
       "4         NaN         NaN                   218         Rock          0   \n",
       "\n",
       "   date_entered  date_peaked  \n",
       "0    2000-09-23   2000-11-18  \n",
       "1    2000-02-12   2000-04-08  \n",
       "2    1999-10-23   2000-01-29  \n",
       "3    2000-08-12   2000-09-16  \n",
       "4    2000-08-05   2000-10-14  \n",
       "\n",
       "[5 rows x 88 columns]"
      ]
     },
     "execution_count": 25,
     "metadata": {},
     "output_type": "execute_result"
    }
   ],
   "source": [
    "df.head()"
   ]
  },
  {
   "cell_type": "markdown",
   "metadata": {},
   "source": [
    "Let's add a column that shows the number of weeks a track took to peak on the billboard."
   ]
  },
  {
   "cell_type": "code",
   "execution_count": 26,
   "metadata": {
    "collapsed": true
   },
   "outputs": [],
   "source": [
    "df['weeks_to_peak'] = df['date_peaked'] - df['date_entered']"
   ]
  },
  {
   "cell_type": "code",
   "execution_count": 27,
   "metadata": {
    "collapsed": false
   },
   "outputs": [
    {
     "data": {
      "text/plain": [
       "0   56 days\n",
       "1   56 days\n",
       "2   98 days\n",
       "3   35 days\n",
       "4   70 days\n",
       "Name: weeks_to_peak, dtype: timedelta64[ns]"
      ]
     },
     "execution_count": 27,
     "metadata": {},
     "output_type": "execute_result"
    }
   ],
   "source": [
    "df['weeks_to_peak'].head()"
   ]
  },
  {
   "cell_type": "code",
   "execution_count": 28,
   "metadata": {
    "collapsed": false
   },
   "outputs": [],
   "source": [
    "def get_weeks(x):\n",
    "    y = str(x).split()\n",
    "    return float(y[0])/7."
   ]
  },
  {
   "cell_type": "code",
   "execution_count": 29,
   "metadata": {
    "collapsed": false
   },
   "outputs": [],
   "source": [
    "df['weeks_to_peak'] = df['weeks_to_peak'].map(get_weeks)"
   ]
  },
  {
   "cell_type": "code",
   "execution_count": 30,
   "metadata": {
    "collapsed": false
   },
   "outputs": [
    {
     "data": {
      "text/html": [
       "<div>\n",
       "<table border=\"1\" class=\"dataframe\">\n",
       "  <thead>\n",
       "    <tr style=\"text-align: right;\">\n",
       "      <th></th>\n",
       "      <th>year</th>\n",
       "      <th>artist.inverted</th>\n",
       "      <th>track</th>\n",
       "      <th>time</th>\n",
       "      <th>genre</th>\n",
       "      <th>date.entered</th>\n",
       "      <th>date.peaked</th>\n",
       "      <th>x1st.week</th>\n",
       "      <th>x2nd.week</th>\n",
       "      <th>x3rd.week</th>\n",
       "      <th>...</th>\n",
       "      <th>x73rd.week</th>\n",
       "      <th>x74th.week</th>\n",
       "      <th>x75th.week</th>\n",
       "      <th>x76th.week</th>\n",
       "      <th>track_length_seconds</th>\n",
       "      <th>genre_clean</th>\n",
       "      <th>genre_cat</th>\n",
       "      <th>date_entered</th>\n",
       "      <th>date_peaked</th>\n",
       "      <th>weeks_to_peak</th>\n",
       "    </tr>\n",
       "  </thead>\n",
       "  <tbody>\n",
       "    <tr>\n",
       "      <th>0</th>\n",
       "      <td>2000</td>\n",
       "      <td>Destiny's Child</td>\n",
       "      <td>Independent Women Part I</td>\n",
       "      <td>3,38,00 AM</td>\n",
       "      <td>Rock</td>\n",
       "      <td>September 23, 2000</td>\n",
       "      <td>November 18, 2000</td>\n",
       "      <td>78</td>\n",
       "      <td>63.0</td>\n",
       "      <td>49.0</td>\n",
       "      <td>...</td>\n",
       "      <td>NaN</td>\n",
       "      <td>NaN</td>\n",
       "      <td>NaN</td>\n",
       "      <td>NaN</td>\n",
       "      <td>218</td>\n",
       "      <td>Rock</td>\n",
       "      <td>0</td>\n",
       "      <td>2000-09-23</td>\n",
       "      <td>2000-11-18</td>\n",
       "      <td>8.0</td>\n",
       "    </tr>\n",
       "    <tr>\n",
       "      <th>1</th>\n",
       "      <td>2000</td>\n",
       "      <td>Santana</td>\n",
       "      <td>Maria, Maria</td>\n",
       "      <td>4,18,00 AM</td>\n",
       "      <td>Rock</td>\n",
       "      <td>February 12, 2000</td>\n",
       "      <td>April 8, 2000</td>\n",
       "      <td>15</td>\n",
       "      <td>8.0</td>\n",
       "      <td>6.0</td>\n",
       "      <td>...</td>\n",
       "      <td>NaN</td>\n",
       "      <td>NaN</td>\n",
       "      <td>NaN</td>\n",
       "      <td>NaN</td>\n",
       "      <td>258</td>\n",
       "      <td>Rock</td>\n",
       "      <td>0</td>\n",
       "      <td>2000-02-12</td>\n",
       "      <td>2000-04-08</td>\n",
       "      <td>8.0</td>\n",
       "    </tr>\n",
       "    <tr>\n",
       "      <th>2</th>\n",
       "      <td>2000</td>\n",
       "      <td>Savage Garden</td>\n",
       "      <td>I Knew I Loved You</td>\n",
       "      <td>4,07,00 AM</td>\n",
       "      <td>Rock</td>\n",
       "      <td>October 23, 1999</td>\n",
       "      <td>January 29, 2000</td>\n",
       "      <td>71</td>\n",
       "      <td>48.0</td>\n",
       "      <td>43.0</td>\n",
       "      <td>...</td>\n",
       "      <td>NaN</td>\n",
       "      <td>NaN</td>\n",
       "      <td>NaN</td>\n",
       "      <td>NaN</td>\n",
       "      <td>247</td>\n",
       "      <td>Rock</td>\n",
       "      <td>0</td>\n",
       "      <td>1999-10-23</td>\n",
       "      <td>2000-01-29</td>\n",
       "      <td>14.0</td>\n",
       "    </tr>\n",
       "    <tr>\n",
       "      <th>3</th>\n",
       "      <td>2000</td>\n",
       "      <td>Madonna</td>\n",
       "      <td>Music</td>\n",
       "      <td>3,45,00 AM</td>\n",
       "      <td>Rock</td>\n",
       "      <td>August 12, 2000</td>\n",
       "      <td>September 16, 2000</td>\n",
       "      <td>41</td>\n",
       "      <td>23.0</td>\n",
       "      <td>18.0</td>\n",
       "      <td>...</td>\n",
       "      <td>NaN</td>\n",
       "      <td>NaN</td>\n",
       "      <td>NaN</td>\n",
       "      <td>NaN</td>\n",
       "      <td>225</td>\n",
       "      <td>Rock</td>\n",
       "      <td>0</td>\n",
       "      <td>2000-08-12</td>\n",
       "      <td>2000-09-16</td>\n",
       "      <td>5.0</td>\n",
       "    </tr>\n",
       "    <tr>\n",
       "      <th>4</th>\n",
       "      <td>2000</td>\n",
       "      <td>Aguilera, Christina</td>\n",
       "      <td>Come On Over Baby (All I Want Is You)</td>\n",
       "      <td>3,38,00 AM</td>\n",
       "      <td>Rock</td>\n",
       "      <td>August 5, 2000</td>\n",
       "      <td>October 14, 2000</td>\n",
       "      <td>57</td>\n",
       "      <td>47.0</td>\n",
       "      <td>45.0</td>\n",
       "      <td>...</td>\n",
       "      <td>NaN</td>\n",
       "      <td>NaN</td>\n",
       "      <td>NaN</td>\n",
       "      <td>NaN</td>\n",
       "      <td>218</td>\n",
       "      <td>Rock</td>\n",
       "      <td>0</td>\n",
       "      <td>2000-08-05</td>\n",
       "      <td>2000-10-14</td>\n",
       "      <td>10.0</td>\n",
       "    </tr>\n",
       "  </tbody>\n",
       "</table>\n",
       "<p>5 rows × 89 columns</p>\n",
       "</div>"
      ],
      "text/plain": [
       "   year      artist.inverted                                  track  \\\n",
       "0  2000      Destiny's Child               Independent Women Part I   \n",
       "1  2000              Santana                           Maria, Maria   \n",
       "2  2000        Savage Garden                     I Knew I Loved You   \n",
       "3  2000              Madonna                                  Music   \n",
       "4  2000  Aguilera, Christina  Come On Over Baby (All I Want Is You)   \n",
       "\n",
       "         time genre        date.entered         date.peaked  x1st.week  \\\n",
       "0  3,38,00 AM  Rock  September 23, 2000   November 18, 2000         78   \n",
       "1  4,18,00 AM  Rock   February 12, 2000       April 8, 2000         15   \n",
       "2  4,07,00 AM  Rock    October 23, 1999    January 29, 2000         71   \n",
       "3  3,45,00 AM  Rock     August 12, 2000  September 16, 2000         41   \n",
       "4  3,38,00 AM  Rock      August 5, 2000    October 14, 2000         57   \n",
       "\n",
       "   x2nd.week  x3rd.week      ...        x73rd.week  x74th.week  x75th.week  \\\n",
       "0       63.0       49.0      ...               NaN         NaN         NaN   \n",
       "1        8.0        6.0      ...               NaN         NaN         NaN   \n",
       "2       48.0       43.0      ...               NaN         NaN         NaN   \n",
       "3       23.0       18.0      ...               NaN         NaN         NaN   \n",
       "4       47.0       45.0      ...               NaN         NaN         NaN   \n",
       "\n",
       "   x76th.week  track_length_seconds  genre_clean  genre_cat  date_entered  \\\n",
       "0         NaN                   218         Rock          0    2000-09-23   \n",
       "1         NaN                   258         Rock          0    2000-02-12   \n",
       "2         NaN                   247         Rock          0    1999-10-23   \n",
       "3         NaN                   225         Rock          0    2000-08-12   \n",
       "4         NaN                   218         Rock          0    2000-08-05   \n",
       "\n",
       "   date_peaked  weeks_to_peak  \n",
       "0   2000-11-18            8.0  \n",
       "1   2000-04-08            8.0  \n",
       "2   2000-01-29           14.0  \n",
       "3   2000-09-16            5.0  \n",
       "4   2000-10-14           10.0  \n",
       "\n",
       "[5 rows x 89 columns]"
      ]
     },
     "execution_count": 30,
     "metadata": {},
     "output_type": "execute_result"
    }
   ],
   "source": [
    "df.head()"
   ]
  },
  {
   "cell_type": "markdown",
   "metadata": {},
   "source": [
    "Adding a column for season:\n",
    "- Spring: March to May\n",
    "- Summer: June to August\n",
    "- Fall: September to November\n",
    "- Winter: December to February"
   ]
  },
  {
   "cell_type": "code",
   "execution_count": 57,
   "metadata": {
    "collapsed": false
   },
   "outputs": [],
   "source": [
    "def get_season(x):\n",
    "    x = x.month\n",
    "    if x <=5 and x >= 3:\n",
    "        return ['Spring', 0]\n",
    "    elif x <= 8 and x >= 6:\n",
    "        return ['Summer', 1]\n",
    "    elif x <= 11 and x >= 9:\n",
    "        return ['Fall', 2]\n",
    "    else:\n",
    "        return ['Winter', 3]"
   ]
  },
  {
   "cell_type": "code",
   "execution_count": 58,
   "metadata": {
    "collapsed": true
   },
   "outputs": [],
   "source": [
    "df['season'] = df['date_entered'].map(lambda x: get_season(x)[0])"
   ]
  },
  {
   "cell_type": "code",
   "execution_count": 59,
   "metadata": {
    "collapsed": true
   },
   "outputs": [],
   "source": [
    "df['season_cat'] = df['date_entered'].map(lambda x: get_season(x)[1])"
   ]
  },
  {
   "cell_type": "code",
   "execution_count": 60,
   "metadata": {
    "collapsed": false
   },
   "outputs": [
    {
     "data": {
      "text/html": [
       "<div>\n",
       "<table border=\"1\" class=\"dataframe\">\n",
       "  <thead>\n",
       "    <tr style=\"text-align: right;\">\n",
       "      <th></th>\n",
       "      <th>year</th>\n",
       "      <th>artist.inverted</th>\n",
       "      <th>track</th>\n",
       "      <th>time</th>\n",
       "      <th>genre</th>\n",
       "      <th>date.entered</th>\n",
       "      <th>date.peaked</th>\n",
       "      <th>x1st.week</th>\n",
       "      <th>x2nd.week</th>\n",
       "      <th>x3rd.week</th>\n",
       "      <th>...</th>\n",
       "      <th>date_entered</th>\n",
       "      <th>date_peaked</th>\n",
       "      <th>weeks_to_peak</th>\n",
       "      <th>season</th>\n",
       "      <th>season_cat</th>\n",
       "      <th>weeks_on_billboard</th>\n",
       "      <th>highest_rank</th>\n",
       "      <th>ranks_climbed</th>\n",
       "      <th>rank_entered</th>\n",
       "      <th>last_rank</th>\n",
       "    </tr>\n",
       "  </thead>\n",
       "  <tbody>\n",
       "    <tr>\n",
       "      <th>0</th>\n",
       "      <td>2000</td>\n",
       "      <td>Destiny's Child</td>\n",
       "      <td>Independent Women Part I</td>\n",
       "      <td>3,38,00 AM</td>\n",
       "      <td>Rock</td>\n",
       "      <td>September 23, 2000</td>\n",
       "      <td>November 18, 2000</td>\n",
       "      <td>78</td>\n",
       "      <td>63.0</td>\n",
       "      <td>49.0</td>\n",
       "      <td>...</td>\n",
       "      <td>2000-09-23</td>\n",
       "      <td>2000-11-18</td>\n",
       "      <td>8.0</td>\n",
       "      <td>Fall</td>\n",
       "      <td>2</td>\n",
       "      <td>28</td>\n",
       "      <td>1.0</td>\n",
       "      <td>77.0</td>\n",
       "      <td>78</td>\n",
       "      <td>31.0</td>\n",
       "    </tr>\n",
       "    <tr>\n",
       "      <th>1</th>\n",
       "      <td>2000</td>\n",
       "      <td>Santana</td>\n",
       "      <td>Maria, Maria</td>\n",
       "      <td>4,18,00 AM</td>\n",
       "      <td>Rock</td>\n",
       "      <td>February 12, 2000</td>\n",
       "      <td>April 8, 2000</td>\n",
       "      <td>15</td>\n",
       "      <td>8.0</td>\n",
       "      <td>6.0</td>\n",
       "      <td>...</td>\n",
       "      <td>2000-02-12</td>\n",
       "      <td>2000-04-08</td>\n",
       "      <td>8.0</td>\n",
       "      <td>Winter</td>\n",
       "      <td>3</td>\n",
       "      <td>26</td>\n",
       "      <td>1.0</td>\n",
       "      <td>14.0</td>\n",
       "      <td>15</td>\n",
       "      <td>47.0</td>\n",
       "    </tr>\n",
       "    <tr>\n",
       "      <th>2</th>\n",
       "      <td>2000</td>\n",
       "      <td>Savage Garden</td>\n",
       "      <td>I Knew I Loved You</td>\n",
       "      <td>4,07,00 AM</td>\n",
       "      <td>Rock</td>\n",
       "      <td>October 23, 1999</td>\n",
       "      <td>January 29, 2000</td>\n",
       "      <td>71</td>\n",
       "      <td>48.0</td>\n",
       "      <td>43.0</td>\n",
       "      <td>...</td>\n",
       "      <td>1999-10-23</td>\n",
       "      <td>2000-01-29</td>\n",
       "      <td>14.0</td>\n",
       "      <td>Fall</td>\n",
       "      <td>2</td>\n",
       "      <td>33</td>\n",
       "      <td>1.0</td>\n",
       "      <td>70.0</td>\n",
       "      <td>71</td>\n",
       "      <td>47.0</td>\n",
       "    </tr>\n",
       "    <tr>\n",
       "      <th>3</th>\n",
       "      <td>2000</td>\n",
       "      <td>Madonna</td>\n",
       "      <td>Music</td>\n",
       "      <td>3,45,00 AM</td>\n",
       "      <td>Rock</td>\n",
       "      <td>August 12, 2000</td>\n",
       "      <td>September 16, 2000</td>\n",
       "      <td>41</td>\n",
       "      <td>23.0</td>\n",
       "      <td>18.0</td>\n",
       "      <td>...</td>\n",
       "      <td>2000-08-12</td>\n",
       "      <td>2000-09-16</td>\n",
       "      <td>5.0</td>\n",
       "      <td>Summer</td>\n",
       "      <td>1</td>\n",
       "      <td>24</td>\n",
       "      <td>1.0</td>\n",
       "      <td>40.0</td>\n",
       "      <td>41</td>\n",
       "      <td>44.0</td>\n",
       "    </tr>\n",
       "    <tr>\n",
       "      <th>4</th>\n",
       "      <td>2000</td>\n",
       "      <td>Aguilera, Christina</td>\n",
       "      <td>Come On Over Baby (All I Want Is You)</td>\n",
       "      <td>3,38,00 AM</td>\n",
       "      <td>Rock</td>\n",
       "      <td>August 5, 2000</td>\n",
       "      <td>October 14, 2000</td>\n",
       "      <td>57</td>\n",
       "      <td>47.0</td>\n",
       "      <td>45.0</td>\n",
       "      <td>...</td>\n",
       "      <td>2000-08-05</td>\n",
       "      <td>2000-10-14</td>\n",
       "      <td>10.0</td>\n",
       "      <td>Summer</td>\n",
       "      <td>1</td>\n",
       "      <td>21</td>\n",
       "      <td>1.0</td>\n",
       "      <td>56.0</td>\n",
       "      <td>57</td>\n",
       "      <td>44.0</td>\n",
       "    </tr>\n",
       "  </tbody>\n",
       "</table>\n",
       "<p>5 rows × 85 columns</p>\n",
       "</div>"
      ],
      "text/plain": [
       "   year      artist.inverted                                  track  \\\n",
       "0  2000      Destiny's Child               Independent Women Part I   \n",
       "1  2000              Santana                           Maria, Maria   \n",
       "2  2000        Savage Garden                     I Knew I Loved You   \n",
       "3  2000              Madonna                                  Music   \n",
       "4  2000  Aguilera, Christina  Come On Over Baby (All I Want Is You)   \n",
       "\n",
       "         time genre        date.entered         date.peaked  x1st.week  \\\n",
       "0  3,38,00 AM  Rock  September 23, 2000   November 18, 2000         78   \n",
       "1  4,18,00 AM  Rock   February 12, 2000       April 8, 2000         15   \n",
       "2  4,07,00 AM  Rock    October 23, 1999    January 29, 2000         71   \n",
       "3  3,45,00 AM  Rock     August 12, 2000  September 16, 2000         41   \n",
       "4  3,38,00 AM  Rock      August 5, 2000    October 14, 2000         57   \n",
       "\n",
       "   x2nd.week  x3rd.week    ...      date_entered  date_peaked  weeks_to_peak  \\\n",
       "0       63.0       49.0    ...        2000-09-23   2000-11-18            8.0   \n",
       "1        8.0        6.0    ...        2000-02-12   2000-04-08            8.0   \n",
       "2       48.0       43.0    ...        1999-10-23   2000-01-29           14.0   \n",
       "3       23.0       18.0    ...        2000-08-12   2000-09-16            5.0   \n",
       "4       47.0       45.0    ...        2000-08-05   2000-10-14           10.0   \n",
       "\n",
       "   season  season_cat  weeks_on_billboard  highest_rank  ranks_climbed  \\\n",
       "0    Fall           2                  28           1.0           77.0   \n",
       "1  Winter           3                  26           1.0           14.0   \n",
       "2    Fall           2                  33           1.0           70.0   \n",
       "3  Summer           1                  24           1.0           40.0   \n",
       "4  Summer           1                  21           1.0           56.0   \n",
       "\n",
       "   rank_entered  last_rank  \n",
       "0            78       31.0  \n",
       "1            15       47.0  \n",
       "2            71       47.0  \n",
       "3            41       44.0  \n",
       "4            57       44.0  \n",
       "\n",
       "[5 rows x 85 columns]"
      ]
     },
     "execution_count": 60,
     "metadata": {},
     "output_type": "execute_result"
    }
   ],
   "source": [
    "df.head()"
   ]
  },
  {
   "cell_type": "markdown",
   "metadata": {},
   "source": [
    "### f. Formatting the timeline"
   ]
  },
  {
   "cell_type": "code",
   "execution_count": 61,
   "metadata": {
    "collapsed": false
   },
   "outputs": [],
   "source": [
    "df.dropna(how='all', axis=1, inplace=True)"
   ]
  },
  {
   "cell_type": "code",
   "execution_count": 62,
   "metadata": {
    "collapsed": false
   },
   "outputs": [
    {
     "data": {
      "text/html": [
       "<div>\n",
       "<table border=\"1\" class=\"dataframe\">\n",
       "  <thead>\n",
       "    <tr style=\"text-align: right;\">\n",
       "      <th></th>\n",
       "      <th>year</th>\n",
       "      <th>artist.inverted</th>\n",
       "      <th>track</th>\n",
       "      <th>time</th>\n",
       "      <th>genre</th>\n",
       "      <th>date.entered</th>\n",
       "      <th>date.peaked</th>\n",
       "      <th>x1st.week</th>\n",
       "      <th>x2nd.week</th>\n",
       "      <th>x3rd.week</th>\n",
       "      <th>...</th>\n",
       "      <th>date_entered</th>\n",
       "      <th>date_peaked</th>\n",
       "      <th>weeks_to_peak</th>\n",
       "      <th>season</th>\n",
       "      <th>season_cat</th>\n",
       "      <th>weeks_on_billboard</th>\n",
       "      <th>highest_rank</th>\n",
       "      <th>ranks_climbed</th>\n",
       "      <th>rank_entered</th>\n",
       "      <th>last_rank</th>\n",
       "    </tr>\n",
       "  </thead>\n",
       "  <tbody>\n",
       "    <tr>\n",
       "      <th>0</th>\n",
       "      <td>2000</td>\n",
       "      <td>Destiny's Child</td>\n",
       "      <td>Independent Women Part I</td>\n",
       "      <td>3,38,00 AM</td>\n",
       "      <td>Rock</td>\n",
       "      <td>September 23, 2000</td>\n",
       "      <td>November 18, 2000</td>\n",
       "      <td>78</td>\n",
       "      <td>63.0</td>\n",
       "      <td>49.0</td>\n",
       "      <td>...</td>\n",
       "      <td>2000-09-23</td>\n",
       "      <td>2000-11-18</td>\n",
       "      <td>8.0</td>\n",
       "      <td>Fall</td>\n",
       "      <td>2</td>\n",
       "      <td>28</td>\n",
       "      <td>1.0</td>\n",
       "      <td>77.0</td>\n",
       "      <td>78</td>\n",
       "      <td>31.0</td>\n",
       "    </tr>\n",
       "    <tr>\n",
       "      <th>1</th>\n",
       "      <td>2000</td>\n",
       "      <td>Santana</td>\n",
       "      <td>Maria, Maria</td>\n",
       "      <td>4,18,00 AM</td>\n",
       "      <td>Rock</td>\n",
       "      <td>February 12, 2000</td>\n",
       "      <td>April 8, 2000</td>\n",
       "      <td>15</td>\n",
       "      <td>8.0</td>\n",
       "      <td>6.0</td>\n",
       "      <td>...</td>\n",
       "      <td>2000-02-12</td>\n",
       "      <td>2000-04-08</td>\n",
       "      <td>8.0</td>\n",
       "      <td>Winter</td>\n",
       "      <td>3</td>\n",
       "      <td>26</td>\n",
       "      <td>1.0</td>\n",
       "      <td>14.0</td>\n",
       "      <td>15</td>\n",
       "      <td>47.0</td>\n",
       "    </tr>\n",
       "    <tr>\n",
       "      <th>2</th>\n",
       "      <td>2000</td>\n",
       "      <td>Savage Garden</td>\n",
       "      <td>I Knew I Loved You</td>\n",
       "      <td>4,07,00 AM</td>\n",
       "      <td>Rock</td>\n",
       "      <td>October 23, 1999</td>\n",
       "      <td>January 29, 2000</td>\n",
       "      <td>71</td>\n",
       "      <td>48.0</td>\n",
       "      <td>43.0</td>\n",
       "      <td>...</td>\n",
       "      <td>1999-10-23</td>\n",
       "      <td>2000-01-29</td>\n",
       "      <td>14.0</td>\n",
       "      <td>Fall</td>\n",
       "      <td>2</td>\n",
       "      <td>33</td>\n",
       "      <td>1.0</td>\n",
       "      <td>70.0</td>\n",
       "      <td>71</td>\n",
       "      <td>47.0</td>\n",
       "    </tr>\n",
       "    <tr>\n",
       "      <th>3</th>\n",
       "      <td>2000</td>\n",
       "      <td>Madonna</td>\n",
       "      <td>Music</td>\n",
       "      <td>3,45,00 AM</td>\n",
       "      <td>Rock</td>\n",
       "      <td>August 12, 2000</td>\n",
       "      <td>September 16, 2000</td>\n",
       "      <td>41</td>\n",
       "      <td>23.0</td>\n",
       "      <td>18.0</td>\n",
       "      <td>...</td>\n",
       "      <td>2000-08-12</td>\n",
       "      <td>2000-09-16</td>\n",
       "      <td>5.0</td>\n",
       "      <td>Summer</td>\n",
       "      <td>1</td>\n",
       "      <td>24</td>\n",
       "      <td>1.0</td>\n",
       "      <td>40.0</td>\n",
       "      <td>41</td>\n",
       "      <td>44.0</td>\n",
       "    </tr>\n",
       "    <tr>\n",
       "      <th>4</th>\n",
       "      <td>2000</td>\n",
       "      <td>Aguilera, Christina</td>\n",
       "      <td>Come On Over Baby (All I Want Is You)</td>\n",
       "      <td>3,38,00 AM</td>\n",
       "      <td>Rock</td>\n",
       "      <td>August 5, 2000</td>\n",
       "      <td>October 14, 2000</td>\n",
       "      <td>57</td>\n",
       "      <td>47.0</td>\n",
       "      <td>45.0</td>\n",
       "      <td>...</td>\n",
       "      <td>2000-08-05</td>\n",
       "      <td>2000-10-14</td>\n",
       "      <td>10.0</td>\n",
       "      <td>Summer</td>\n",
       "      <td>1</td>\n",
       "      <td>21</td>\n",
       "      <td>1.0</td>\n",
       "      <td>56.0</td>\n",
       "      <td>57</td>\n",
       "      <td>44.0</td>\n",
       "    </tr>\n",
       "  </tbody>\n",
       "</table>\n",
       "<p>5 rows × 85 columns</p>\n",
       "</div>"
      ],
      "text/plain": [
       "   year      artist.inverted                                  track  \\\n",
       "0  2000      Destiny's Child               Independent Women Part I   \n",
       "1  2000              Santana                           Maria, Maria   \n",
       "2  2000        Savage Garden                     I Knew I Loved You   \n",
       "3  2000              Madonna                                  Music   \n",
       "4  2000  Aguilera, Christina  Come On Over Baby (All I Want Is You)   \n",
       "\n",
       "         time genre        date.entered         date.peaked  x1st.week  \\\n",
       "0  3,38,00 AM  Rock  September 23, 2000   November 18, 2000         78   \n",
       "1  4,18,00 AM  Rock   February 12, 2000       April 8, 2000         15   \n",
       "2  4,07,00 AM  Rock    October 23, 1999    January 29, 2000         71   \n",
       "3  3,45,00 AM  Rock     August 12, 2000  September 16, 2000         41   \n",
       "4  3,38,00 AM  Rock      August 5, 2000    October 14, 2000         57   \n",
       "\n",
       "   x2nd.week  x3rd.week    ...      date_entered  date_peaked  weeks_to_peak  \\\n",
       "0       63.0       49.0    ...        2000-09-23   2000-11-18            8.0   \n",
       "1        8.0        6.0    ...        2000-02-12   2000-04-08            8.0   \n",
       "2       48.0       43.0    ...        1999-10-23   2000-01-29           14.0   \n",
       "3       23.0       18.0    ...        2000-08-12   2000-09-16            5.0   \n",
       "4       47.0       45.0    ...        2000-08-05   2000-10-14           10.0   \n",
       "\n",
       "   season  season_cat  weeks_on_billboard  highest_rank  ranks_climbed  \\\n",
       "0    Fall           2                  28           1.0           77.0   \n",
       "1  Winter           3                  26           1.0           14.0   \n",
       "2    Fall           2                  33           1.0           70.0   \n",
       "3  Summer           1                  24           1.0           40.0   \n",
       "4  Summer           1                  21           1.0           56.0   \n",
       "\n",
       "   rank_entered  last_rank  \n",
       "0            78       31.0  \n",
       "1            15       47.0  \n",
       "2            71       47.0  \n",
       "3            41       44.0  \n",
       "4            57       44.0  \n",
       "\n",
       "[5 rows x 85 columns]"
      ]
     },
     "execution_count": 62,
     "metadata": {},
     "output_type": "execute_result"
    }
   ],
   "source": [
    "df.head()"
   ]
  },
  {
   "cell_type": "markdown",
   "metadata": {},
   "source": [
    "**Some of the weeks were totally empty! So we got rid of them.**"
   ]
  },
  {
   "cell_type": "markdown",
   "metadata": {},
   "source": [
    "### h. How long does a track stay on the billboard?"
   ]
  },
  {
   "cell_type": "code",
   "execution_count": 63,
   "metadata": {
    "collapsed": false
   },
   "outputs": [],
   "source": [
    "# count returns the number of non-NA/ null observations\n",
    "\n",
    "df['weeks_on_billboard'] = df.iloc[:,7:72].count(axis=1)"
   ]
  },
  {
   "cell_type": "code",
   "execution_count": 64,
   "metadata": {
    "collapsed": false
   },
   "outputs": [
    {
     "data": {
      "text/html": [
       "<div>\n",
       "<table border=\"1\" class=\"dataframe\">\n",
       "  <thead>\n",
       "    <tr style=\"text-align: right;\">\n",
       "      <th></th>\n",
       "      <th>year</th>\n",
       "      <th>artist.inverted</th>\n",
       "      <th>track</th>\n",
       "      <th>time</th>\n",
       "      <th>genre</th>\n",
       "      <th>date.entered</th>\n",
       "      <th>date.peaked</th>\n",
       "      <th>x1st.week</th>\n",
       "      <th>x2nd.week</th>\n",
       "      <th>x3rd.week</th>\n",
       "      <th>...</th>\n",
       "      <th>date_entered</th>\n",
       "      <th>date_peaked</th>\n",
       "      <th>weeks_to_peak</th>\n",
       "      <th>season</th>\n",
       "      <th>season_cat</th>\n",
       "      <th>weeks_on_billboard</th>\n",
       "      <th>highest_rank</th>\n",
       "      <th>ranks_climbed</th>\n",
       "      <th>rank_entered</th>\n",
       "      <th>last_rank</th>\n",
       "    </tr>\n",
       "  </thead>\n",
       "  <tbody>\n",
       "    <tr>\n",
       "      <th>0</th>\n",
       "      <td>2000</td>\n",
       "      <td>Destiny's Child</td>\n",
       "      <td>Independent Women Part I</td>\n",
       "      <td>3,38,00 AM</td>\n",
       "      <td>Rock</td>\n",
       "      <td>September 23, 2000</td>\n",
       "      <td>November 18, 2000</td>\n",
       "      <td>78</td>\n",
       "      <td>63.0</td>\n",
       "      <td>49.0</td>\n",
       "      <td>...</td>\n",
       "      <td>2000-09-23</td>\n",
       "      <td>2000-11-18</td>\n",
       "      <td>8.0</td>\n",
       "      <td>Fall</td>\n",
       "      <td>2</td>\n",
       "      <td>28</td>\n",
       "      <td>1.0</td>\n",
       "      <td>77.0</td>\n",
       "      <td>78</td>\n",
       "      <td>31.0</td>\n",
       "    </tr>\n",
       "    <tr>\n",
       "      <th>1</th>\n",
       "      <td>2000</td>\n",
       "      <td>Santana</td>\n",
       "      <td>Maria, Maria</td>\n",
       "      <td>4,18,00 AM</td>\n",
       "      <td>Rock</td>\n",
       "      <td>February 12, 2000</td>\n",
       "      <td>April 8, 2000</td>\n",
       "      <td>15</td>\n",
       "      <td>8.0</td>\n",
       "      <td>6.0</td>\n",
       "      <td>...</td>\n",
       "      <td>2000-02-12</td>\n",
       "      <td>2000-04-08</td>\n",
       "      <td>8.0</td>\n",
       "      <td>Winter</td>\n",
       "      <td>3</td>\n",
       "      <td>26</td>\n",
       "      <td>1.0</td>\n",
       "      <td>14.0</td>\n",
       "      <td>15</td>\n",
       "      <td>47.0</td>\n",
       "    </tr>\n",
       "    <tr>\n",
       "      <th>2</th>\n",
       "      <td>2000</td>\n",
       "      <td>Savage Garden</td>\n",
       "      <td>I Knew I Loved You</td>\n",
       "      <td>4,07,00 AM</td>\n",
       "      <td>Rock</td>\n",
       "      <td>October 23, 1999</td>\n",
       "      <td>January 29, 2000</td>\n",
       "      <td>71</td>\n",
       "      <td>48.0</td>\n",
       "      <td>43.0</td>\n",
       "      <td>...</td>\n",
       "      <td>1999-10-23</td>\n",
       "      <td>2000-01-29</td>\n",
       "      <td>14.0</td>\n",
       "      <td>Fall</td>\n",
       "      <td>2</td>\n",
       "      <td>33</td>\n",
       "      <td>1.0</td>\n",
       "      <td>70.0</td>\n",
       "      <td>71</td>\n",
       "      <td>47.0</td>\n",
       "    </tr>\n",
       "    <tr>\n",
       "      <th>3</th>\n",
       "      <td>2000</td>\n",
       "      <td>Madonna</td>\n",
       "      <td>Music</td>\n",
       "      <td>3,45,00 AM</td>\n",
       "      <td>Rock</td>\n",
       "      <td>August 12, 2000</td>\n",
       "      <td>September 16, 2000</td>\n",
       "      <td>41</td>\n",
       "      <td>23.0</td>\n",
       "      <td>18.0</td>\n",
       "      <td>...</td>\n",
       "      <td>2000-08-12</td>\n",
       "      <td>2000-09-16</td>\n",
       "      <td>5.0</td>\n",
       "      <td>Summer</td>\n",
       "      <td>1</td>\n",
       "      <td>24</td>\n",
       "      <td>1.0</td>\n",
       "      <td>40.0</td>\n",
       "      <td>41</td>\n",
       "      <td>44.0</td>\n",
       "    </tr>\n",
       "    <tr>\n",
       "      <th>4</th>\n",
       "      <td>2000</td>\n",
       "      <td>Aguilera, Christina</td>\n",
       "      <td>Come On Over Baby (All I Want Is You)</td>\n",
       "      <td>3,38,00 AM</td>\n",
       "      <td>Rock</td>\n",
       "      <td>August 5, 2000</td>\n",
       "      <td>October 14, 2000</td>\n",
       "      <td>57</td>\n",
       "      <td>47.0</td>\n",
       "      <td>45.0</td>\n",
       "      <td>...</td>\n",
       "      <td>2000-08-05</td>\n",
       "      <td>2000-10-14</td>\n",
       "      <td>10.0</td>\n",
       "      <td>Summer</td>\n",
       "      <td>1</td>\n",
       "      <td>21</td>\n",
       "      <td>1.0</td>\n",
       "      <td>56.0</td>\n",
       "      <td>57</td>\n",
       "      <td>44.0</td>\n",
       "    </tr>\n",
       "  </tbody>\n",
       "</table>\n",
       "<p>5 rows × 85 columns</p>\n",
       "</div>"
      ],
      "text/plain": [
       "   year      artist.inverted                                  track  \\\n",
       "0  2000      Destiny's Child               Independent Women Part I   \n",
       "1  2000              Santana                           Maria, Maria   \n",
       "2  2000        Savage Garden                     I Knew I Loved You   \n",
       "3  2000              Madonna                                  Music   \n",
       "4  2000  Aguilera, Christina  Come On Over Baby (All I Want Is You)   \n",
       "\n",
       "         time genre        date.entered         date.peaked  x1st.week  \\\n",
       "0  3,38,00 AM  Rock  September 23, 2000   November 18, 2000         78   \n",
       "1  4,18,00 AM  Rock   February 12, 2000       April 8, 2000         15   \n",
       "2  4,07,00 AM  Rock    October 23, 1999    January 29, 2000         71   \n",
       "3  3,45,00 AM  Rock     August 12, 2000  September 16, 2000         41   \n",
       "4  3,38,00 AM  Rock      August 5, 2000    October 14, 2000         57   \n",
       "\n",
       "   x2nd.week  x3rd.week    ...      date_entered  date_peaked  weeks_to_peak  \\\n",
       "0       63.0       49.0    ...        2000-09-23   2000-11-18            8.0   \n",
       "1        8.0        6.0    ...        2000-02-12   2000-04-08            8.0   \n",
       "2       48.0       43.0    ...        1999-10-23   2000-01-29           14.0   \n",
       "3       23.0       18.0    ...        2000-08-12   2000-09-16            5.0   \n",
       "4       47.0       45.0    ...        2000-08-05   2000-10-14           10.0   \n",
       "\n",
       "   season  season_cat  weeks_on_billboard  highest_rank  ranks_climbed  \\\n",
       "0    Fall           2                  28           1.0           77.0   \n",
       "1  Winter           3                  26           1.0           14.0   \n",
       "2    Fall           2                  33           1.0           70.0   \n",
       "3  Summer           1                  24           1.0           40.0   \n",
       "4  Summer           1                  21           1.0           56.0   \n",
       "\n",
       "   rank_entered  last_rank  \n",
       "0            78       31.0  \n",
       "1            15       47.0  \n",
       "2            71       47.0  \n",
       "3            41       44.0  \n",
       "4            57       44.0  \n",
       "\n",
       "[5 rows x 85 columns]"
      ]
     },
     "execution_count": 64,
     "metadata": {},
     "output_type": "execute_result"
    }
   ],
   "source": [
    "df.head()"
   ]
  },
  {
   "cell_type": "markdown",
   "metadata": {},
   "source": [
    "### i. What is the highest rank obtained by a track?"
   ]
  },
  {
   "cell_type": "code",
   "execution_count": 65,
   "metadata": {
    "collapsed": true
   },
   "outputs": [],
   "source": [
    "df['highest_rank'] = df.iloc[:,7:72].min(axis=1)"
   ]
  },
  {
   "cell_type": "code",
   "execution_count": 66,
   "metadata": {
    "collapsed": false
   },
   "outputs": [
    {
     "data": {
      "text/plain": [
       "array([  1.,   2.,   3.,   4.,   5.,   6.,   7.,   8.,   9.,  11.,  12.,\n",
       "        13.,  14.,  15.,  17.,  18.,  19.,  20.,  21.,  22.,  23.,  24.,\n",
       "        25.,  26.,  27.,  28.,  29.,  30.,  31.,  32.,  33.,  34.,  35.,\n",
       "        36.,  37.,  38.,  39.,  40.,  42.,  43.,  44.,  45.,  47.,  48.,\n",
       "        49.,  50.,  51.,  52.,  53.,  54.,  55.,  56.,  57.,  58.,  59.,\n",
       "        60.,  61.,  62.,  63.,  64.,  65.,  67.,  68.,  69.,  70.,  71.,\n",
       "        72.,  73.,  74.,  75.,  76.,  77.,  78.,  79.,  80.,  81.,  83.,\n",
       "        84.,  85.,  86.,  87.,  88.,  89.,  90.,  91.,  92.,  93.,  95.,\n",
       "        96.,  97.,  98.,  99.])"
      ]
     },
     "execution_count": 66,
     "metadata": {},
     "output_type": "execute_result"
    }
   ],
   "source": [
    "df['highest_rank'].unique()"
   ]
  },
  {
   "cell_type": "code",
   "execution_count": 67,
   "metadata": {
    "collapsed": false
   },
   "outputs": [
    {
     "data": {
      "text/html": [
       "<div>\n",
       "<table border=\"1\" class=\"dataframe\">\n",
       "  <thead>\n",
       "    <tr style=\"text-align: right;\">\n",
       "      <th></th>\n",
       "      <th>year</th>\n",
       "      <th>artist.inverted</th>\n",
       "      <th>track</th>\n",
       "      <th>time</th>\n",
       "      <th>genre</th>\n",
       "      <th>date.entered</th>\n",
       "      <th>date.peaked</th>\n",
       "      <th>x1st.week</th>\n",
       "      <th>x2nd.week</th>\n",
       "      <th>x3rd.week</th>\n",
       "      <th>...</th>\n",
       "      <th>date_entered</th>\n",
       "      <th>date_peaked</th>\n",
       "      <th>weeks_to_peak</th>\n",
       "      <th>season</th>\n",
       "      <th>season_cat</th>\n",
       "      <th>weeks_on_billboard</th>\n",
       "      <th>highest_rank</th>\n",
       "      <th>ranks_climbed</th>\n",
       "      <th>rank_entered</th>\n",
       "      <th>last_rank</th>\n",
       "    </tr>\n",
       "  </thead>\n",
       "  <tbody>\n",
       "    <tr>\n",
       "      <th>0</th>\n",
       "      <td>2000</td>\n",
       "      <td>Destiny's Child</td>\n",
       "      <td>Independent Women Part I</td>\n",
       "      <td>3,38,00 AM</td>\n",
       "      <td>Rock</td>\n",
       "      <td>September 23, 2000</td>\n",
       "      <td>November 18, 2000</td>\n",
       "      <td>78</td>\n",
       "      <td>63.0</td>\n",
       "      <td>49.0</td>\n",
       "      <td>...</td>\n",
       "      <td>2000-09-23</td>\n",
       "      <td>2000-11-18</td>\n",
       "      <td>8.0</td>\n",
       "      <td>Fall</td>\n",
       "      <td>2</td>\n",
       "      <td>28</td>\n",
       "      <td>1.0</td>\n",
       "      <td>77.0</td>\n",
       "      <td>78</td>\n",
       "      <td>31.0</td>\n",
       "    </tr>\n",
       "    <tr>\n",
       "      <th>1</th>\n",
       "      <td>2000</td>\n",
       "      <td>Santana</td>\n",
       "      <td>Maria, Maria</td>\n",
       "      <td>4,18,00 AM</td>\n",
       "      <td>Rock</td>\n",
       "      <td>February 12, 2000</td>\n",
       "      <td>April 8, 2000</td>\n",
       "      <td>15</td>\n",
       "      <td>8.0</td>\n",
       "      <td>6.0</td>\n",
       "      <td>...</td>\n",
       "      <td>2000-02-12</td>\n",
       "      <td>2000-04-08</td>\n",
       "      <td>8.0</td>\n",
       "      <td>Winter</td>\n",
       "      <td>3</td>\n",
       "      <td>26</td>\n",
       "      <td>1.0</td>\n",
       "      <td>14.0</td>\n",
       "      <td>15</td>\n",
       "      <td>47.0</td>\n",
       "    </tr>\n",
       "    <tr>\n",
       "      <th>2</th>\n",
       "      <td>2000</td>\n",
       "      <td>Savage Garden</td>\n",
       "      <td>I Knew I Loved You</td>\n",
       "      <td>4,07,00 AM</td>\n",
       "      <td>Rock</td>\n",
       "      <td>October 23, 1999</td>\n",
       "      <td>January 29, 2000</td>\n",
       "      <td>71</td>\n",
       "      <td>48.0</td>\n",
       "      <td>43.0</td>\n",
       "      <td>...</td>\n",
       "      <td>1999-10-23</td>\n",
       "      <td>2000-01-29</td>\n",
       "      <td>14.0</td>\n",
       "      <td>Fall</td>\n",
       "      <td>2</td>\n",
       "      <td>33</td>\n",
       "      <td>1.0</td>\n",
       "      <td>70.0</td>\n",
       "      <td>71</td>\n",
       "      <td>47.0</td>\n",
       "    </tr>\n",
       "    <tr>\n",
       "      <th>3</th>\n",
       "      <td>2000</td>\n",
       "      <td>Madonna</td>\n",
       "      <td>Music</td>\n",
       "      <td>3,45,00 AM</td>\n",
       "      <td>Rock</td>\n",
       "      <td>August 12, 2000</td>\n",
       "      <td>September 16, 2000</td>\n",
       "      <td>41</td>\n",
       "      <td>23.0</td>\n",
       "      <td>18.0</td>\n",
       "      <td>...</td>\n",
       "      <td>2000-08-12</td>\n",
       "      <td>2000-09-16</td>\n",
       "      <td>5.0</td>\n",
       "      <td>Summer</td>\n",
       "      <td>1</td>\n",
       "      <td>24</td>\n",
       "      <td>1.0</td>\n",
       "      <td>40.0</td>\n",
       "      <td>41</td>\n",
       "      <td>44.0</td>\n",
       "    </tr>\n",
       "    <tr>\n",
       "      <th>4</th>\n",
       "      <td>2000</td>\n",
       "      <td>Aguilera, Christina</td>\n",
       "      <td>Come On Over Baby (All I Want Is You)</td>\n",
       "      <td>3,38,00 AM</td>\n",
       "      <td>Rock</td>\n",
       "      <td>August 5, 2000</td>\n",
       "      <td>October 14, 2000</td>\n",
       "      <td>57</td>\n",
       "      <td>47.0</td>\n",
       "      <td>45.0</td>\n",
       "      <td>...</td>\n",
       "      <td>2000-08-05</td>\n",
       "      <td>2000-10-14</td>\n",
       "      <td>10.0</td>\n",
       "      <td>Summer</td>\n",
       "      <td>1</td>\n",
       "      <td>21</td>\n",
       "      <td>1.0</td>\n",
       "      <td>56.0</td>\n",
       "      <td>57</td>\n",
       "      <td>44.0</td>\n",
       "    </tr>\n",
       "  </tbody>\n",
       "</table>\n",
       "<p>5 rows × 85 columns</p>\n",
       "</div>"
      ],
      "text/plain": [
       "   year      artist.inverted                                  track  \\\n",
       "0  2000      Destiny's Child               Independent Women Part I   \n",
       "1  2000              Santana                           Maria, Maria   \n",
       "2  2000        Savage Garden                     I Knew I Loved You   \n",
       "3  2000              Madonna                                  Music   \n",
       "4  2000  Aguilera, Christina  Come On Over Baby (All I Want Is You)   \n",
       "\n",
       "         time genre        date.entered         date.peaked  x1st.week  \\\n",
       "0  3,38,00 AM  Rock  September 23, 2000   November 18, 2000         78   \n",
       "1  4,18,00 AM  Rock   February 12, 2000       April 8, 2000         15   \n",
       "2  4,07,00 AM  Rock    October 23, 1999    January 29, 2000         71   \n",
       "3  3,45,00 AM  Rock     August 12, 2000  September 16, 2000         41   \n",
       "4  3,38,00 AM  Rock      August 5, 2000    October 14, 2000         57   \n",
       "\n",
       "   x2nd.week  x3rd.week    ...      date_entered  date_peaked  weeks_to_peak  \\\n",
       "0       63.0       49.0    ...        2000-09-23   2000-11-18            8.0   \n",
       "1        8.0        6.0    ...        2000-02-12   2000-04-08            8.0   \n",
       "2       48.0       43.0    ...        1999-10-23   2000-01-29           14.0   \n",
       "3       23.0       18.0    ...        2000-08-12   2000-09-16            5.0   \n",
       "4       47.0       45.0    ...        2000-08-05   2000-10-14           10.0   \n",
       "\n",
       "   season  season_cat  weeks_on_billboard  highest_rank  ranks_climbed  \\\n",
       "0    Fall           2                  28           1.0           77.0   \n",
       "1  Winter           3                  26           1.0           14.0   \n",
       "2    Fall           2                  33           1.0           70.0   \n",
       "3  Summer           1                  24           1.0           40.0   \n",
       "4  Summer           1                  21           1.0           56.0   \n",
       "\n",
       "   rank_entered  last_rank  \n",
       "0            78       31.0  \n",
       "1            15       47.0  \n",
       "2            71       47.0  \n",
       "3            41       44.0  \n",
       "4            57       44.0  \n",
       "\n",
       "[5 rows x 85 columns]"
      ]
     },
     "execution_count": 67,
     "metadata": {},
     "output_type": "execute_result"
    }
   ],
   "source": [
    "df.head()"
   ]
  },
  {
   "cell_type": "markdown",
   "metadata": {},
   "source": [
    "#### How many ranks did the track climb to reach the top?"
   ]
  },
  {
   "cell_type": "code",
   "execution_count": 68,
   "metadata": {
    "collapsed": true
   },
   "outputs": [],
   "source": [
    "df['ranks_climbed'] = -(df['highest_rank'] - df['x1st.week'])"
   ]
  },
  {
   "cell_type": "code",
   "execution_count": 69,
   "metadata": {
    "collapsed": false
   },
   "outputs": [
    {
     "data": {
      "text/html": [
       "<div>\n",
       "<table border=\"1\" class=\"dataframe\">\n",
       "  <thead>\n",
       "    <tr style=\"text-align: right;\">\n",
       "      <th></th>\n",
       "      <th>year</th>\n",
       "      <th>artist.inverted</th>\n",
       "      <th>track</th>\n",
       "      <th>time</th>\n",
       "      <th>genre</th>\n",
       "      <th>date.entered</th>\n",
       "      <th>date.peaked</th>\n",
       "      <th>x1st.week</th>\n",
       "      <th>x2nd.week</th>\n",
       "      <th>x3rd.week</th>\n",
       "      <th>...</th>\n",
       "      <th>date_entered</th>\n",
       "      <th>date_peaked</th>\n",
       "      <th>weeks_to_peak</th>\n",
       "      <th>season</th>\n",
       "      <th>season_cat</th>\n",
       "      <th>weeks_on_billboard</th>\n",
       "      <th>highest_rank</th>\n",
       "      <th>ranks_climbed</th>\n",
       "      <th>rank_entered</th>\n",
       "      <th>last_rank</th>\n",
       "    </tr>\n",
       "  </thead>\n",
       "  <tbody>\n",
       "    <tr>\n",
       "      <th>0</th>\n",
       "      <td>2000</td>\n",
       "      <td>Destiny's Child</td>\n",
       "      <td>Independent Women Part I</td>\n",
       "      <td>3,38,00 AM</td>\n",
       "      <td>Rock</td>\n",
       "      <td>September 23, 2000</td>\n",
       "      <td>November 18, 2000</td>\n",
       "      <td>78</td>\n",
       "      <td>63.0</td>\n",
       "      <td>49.0</td>\n",
       "      <td>...</td>\n",
       "      <td>2000-09-23</td>\n",
       "      <td>2000-11-18</td>\n",
       "      <td>8.0</td>\n",
       "      <td>Fall</td>\n",
       "      <td>2</td>\n",
       "      <td>28</td>\n",
       "      <td>1.0</td>\n",
       "      <td>77.0</td>\n",
       "      <td>78</td>\n",
       "      <td>31.0</td>\n",
       "    </tr>\n",
       "    <tr>\n",
       "      <th>1</th>\n",
       "      <td>2000</td>\n",
       "      <td>Santana</td>\n",
       "      <td>Maria, Maria</td>\n",
       "      <td>4,18,00 AM</td>\n",
       "      <td>Rock</td>\n",
       "      <td>February 12, 2000</td>\n",
       "      <td>April 8, 2000</td>\n",
       "      <td>15</td>\n",
       "      <td>8.0</td>\n",
       "      <td>6.0</td>\n",
       "      <td>...</td>\n",
       "      <td>2000-02-12</td>\n",
       "      <td>2000-04-08</td>\n",
       "      <td>8.0</td>\n",
       "      <td>Winter</td>\n",
       "      <td>3</td>\n",
       "      <td>26</td>\n",
       "      <td>1.0</td>\n",
       "      <td>14.0</td>\n",
       "      <td>15</td>\n",
       "      <td>47.0</td>\n",
       "    </tr>\n",
       "    <tr>\n",
       "      <th>2</th>\n",
       "      <td>2000</td>\n",
       "      <td>Savage Garden</td>\n",
       "      <td>I Knew I Loved You</td>\n",
       "      <td>4,07,00 AM</td>\n",
       "      <td>Rock</td>\n",
       "      <td>October 23, 1999</td>\n",
       "      <td>January 29, 2000</td>\n",
       "      <td>71</td>\n",
       "      <td>48.0</td>\n",
       "      <td>43.0</td>\n",
       "      <td>...</td>\n",
       "      <td>1999-10-23</td>\n",
       "      <td>2000-01-29</td>\n",
       "      <td>14.0</td>\n",
       "      <td>Fall</td>\n",
       "      <td>2</td>\n",
       "      <td>33</td>\n",
       "      <td>1.0</td>\n",
       "      <td>70.0</td>\n",
       "      <td>71</td>\n",
       "      <td>47.0</td>\n",
       "    </tr>\n",
       "    <tr>\n",
       "      <th>3</th>\n",
       "      <td>2000</td>\n",
       "      <td>Madonna</td>\n",
       "      <td>Music</td>\n",
       "      <td>3,45,00 AM</td>\n",
       "      <td>Rock</td>\n",
       "      <td>August 12, 2000</td>\n",
       "      <td>September 16, 2000</td>\n",
       "      <td>41</td>\n",
       "      <td>23.0</td>\n",
       "      <td>18.0</td>\n",
       "      <td>...</td>\n",
       "      <td>2000-08-12</td>\n",
       "      <td>2000-09-16</td>\n",
       "      <td>5.0</td>\n",
       "      <td>Summer</td>\n",
       "      <td>1</td>\n",
       "      <td>24</td>\n",
       "      <td>1.0</td>\n",
       "      <td>40.0</td>\n",
       "      <td>41</td>\n",
       "      <td>44.0</td>\n",
       "    </tr>\n",
       "    <tr>\n",
       "      <th>4</th>\n",
       "      <td>2000</td>\n",
       "      <td>Aguilera, Christina</td>\n",
       "      <td>Come On Over Baby (All I Want Is You)</td>\n",
       "      <td>3,38,00 AM</td>\n",
       "      <td>Rock</td>\n",
       "      <td>August 5, 2000</td>\n",
       "      <td>October 14, 2000</td>\n",
       "      <td>57</td>\n",
       "      <td>47.0</td>\n",
       "      <td>45.0</td>\n",
       "      <td>...</td>\n",
       "      <td>2000-08-05</td>\n",
       "      <td>2000-10-14</td>\n",
       "      <td>10.0</td>\n",
       "      <td>Summer</td>\n",
       "      <td>1</td>\n",
       "      <td>21</td>\n",
       "      <td>1.0</td>\n",
       "      <td>56.0</td>\n",
       "      <td>57</td>\n",
       "      <td>44.0</td>\n",
       "    </tr>\n",
       "  </tbody>\n",
       "</table>\n",
       "<p>5 rows × 85 columns</p>\n",
       "</div>"
      ],
      "text/plain": [
       "   year      artist.inverted                                  track  \\\n",
       "0  2000      Destiny's Child               Independent Women Part I   \n",
       "1  2000              Santana                           Maria, Maria   \n",
       "2  2000        Savage Garden                     I Knew I Loved You   \n",
       "3  2000              Madonna                                  Music   \n",
       "4  2000  Aguilera, Christina  Come On Over Baby (All I Want Is You)   \n",
       "\n",
       "         time genre        date.entered         date.peaked  x1st.week  \\\n",
       "0  3,38,00 AM  Rock  September 23, 2000   November 18, 2000         78   \n",
       "1  4,18,00 AM  Rock   February 12, 2000       April 8, 2000         15   \n",
       "2  4,07,00 AM  Rock    October 23, 1999    January 29, 2000         71   \n",
       "3  3,45,00 AM  Rock     August 12, 2000  September 16, 2000         41   \n",
       "4  3,38,00 AM  Rock      August 5, 2000    October 14, 2000         57   \n",
       "\n",
       "   x2nd.week  x3rd.week    ...      date_entered  date_peaked  weeks_to_peak  \\\n",
       "0       63.0       49.0    ...        2000-09-23   2000-11-18            8.0   \n",
       "1        8.0        6.0    ...        2000-02-12   2000-04-08            8.0   \n",
       "2       48.0       43.0    ...        1999-10-23   2000-01-29           14.0   \n",
       "3       23.0       18.0    ...        2000-08-12   2000-09-16            5.0   \n",
       "4       47.0       45.0    ...        2000-08-05   2000-10-14           10.0   \n",
       "\n",
       "   season  season_cat  weeks_on_billboard  highest_rank  ranks_climbed  \\\n",
       "0    Fall           2                  28           1.0           77.0   \n",
       "1  Winter           3                  26           1.0           14.0   \n",
       "2    Fall           2                  33           1.0           70.0   \n",
       "3  Summer           1                  24           1.0           40.0   \n",
       "4  Summer           1                  21           1.0           56.0   \n",
       "\n",
       "   rank_entered  last_rank  \n",
       "0            78       31.0  \n",
       "1            15       47.0  \n",
       "2            71       47.0  \n",
       "3            41       44.0  \n",
       "4            57       44.0  \n",
       "\n",
       "[5 rows x 85 columns]"
      ]
     },
     "execution_count": 69,
     "metadata": {},
     "output_type": "execute_result"
    }
   ],
   "source": [
    "df.head()"
   ]
  },
  {
   "cell_type": "markdown",
   "metadata": {},
   "source": [
    "Adding the position at which the track entered the charts (i.e. renaming x1st.week)"
   ]
  },
  {
   "cell_type": "code",
   "execution_count": 70,
   "metadata": {
    "collapsed": true
   },
   "outputs": [],
   "source": [
    "df['rank_entered'] = df['x1st.week']"
   ]
  },
  {
   "cell_type": "code",
   "execution_count": 71,
   "metadata": {
    "collapsed": true
   },
   "outputs": [],
   "source": [
    "def get_last_rank(x):\n",
    "    row = df[df['track'] == x].index.values[0]\n",
    "    l = df.iloc[row,7:72].tolist()\n",
    "    r = 0\n",
    "    for i in l:\n",
    "        if i > 0:\n",
    "            r = i\n",
    "    return r"
   ]
  },
  {
   "cell_type": "code",
   "execution_count": 72,
   "metadata": {
    "collapsed": false
   },
   "outputs": [],
   "source": [
    "df['last_rank'] = df['track'].map(get_last_rank)"
   ]
  },
  {
   "cell_type": "code",
   "execution_count": 73,
   "metadata": {
    "collapsed": false
   },
   "outputs": [
    {
     "data": {
      "text/html": [
       "<div>\n",
       "<table border=\"1\" class=\"dataframe\">\n",
       "  <thead>\n",
       "    <tr style=\"text-align: right;\">\n",
       "      <th></th>\n",
       "      <th>year</th>\n",
       "      <th>artist.inverted</th>\n",
       "      <th>track</th>\n",
       "      <th>time</th>\n",
       "      <th>genre</th>\n",
       "      <th>date.entered</th>\n",
       "      <th>date.peaked</th>\n",
       "      <th>x1st.week</th>\n",
       "      <th>x2nd.week</th>\n",
       "      <th>x3rd.week</th>\n",
       "      <th>...</th>\n",
       "      <th>date_entered</th>\n",
       "      <th>date_peaked</th>\n",
       "      <th>weeks_to_peak</th>\n",
       "      <th>season</th>\n",
       "      <th>season_cat</th>\n",
       "      <th>weeks_on_billboard</th>\n",
       "      <th>highest_rank</th>\n",
       "      <th>ranks_climbed</th>\n",
       "      <th>rank_entered</th>\n",
       "      <th>last_rank</th>\n",
       "    </tr>\n",
       "  </thead>\n",
       "  <tbody>\n",
       "    <tr>\n",
       "      <th>0</th>\n",
       "      <td>2000</td>\n",
       "      <td>Destiny's Child</td>\n",
       "      <td>Independent Women Part I</td>\n",
       "      <td>3,38,00 AM</td>\n",
       "      <td>Rock</td>\n",
       "      <td>September 23, 2000</td>\n",
       "      <td>November 18, 2000</td>\n",
       "      <td>78</td>\n",
       "      <td>63.0</td>\n",
       "      <td>49.0</td>\n",
       "      <td>...</td>\n",
       "      <td>2000-09-23</td>\n",
       "      <td>2000-11-18</td>\n",
       "      <td>8.0</td>\n",
       "      <td>Fall</td>\n",
       "      <td>2</td>\n",
       "      <td>28</td>\n",
       "      <td>1.0</td>\n",
       "      <td>77.0</td>\n",
       "      <td>78</td>\n",
       "      <td>31.0</td>\n",
       "    </tr>\n",
       "    <tr>\n",
       "      <th>1</th>\n",
       "      <td>2000</td>\n",
       "      <td>Santana</td>\n",
       "      <td>Maria, Maria</td>\n",
       "      <td>4,18,00 AM</td>\n",
       "      <td>Rock</td>\n",
       "      <td>February 12, 2000</td>\n",
       "      <td>April 8, 2000</td>\n",
       "      <td>15</td>\n",
       "      <td>8.0</td>\n",
       "      <td>6.0</td>\n",
       "      <td>...</td>\n",
       "      <td>2000-02-12</td>\n",
       "      <td>2000-04-08</td>\n",
       "      <td>8.0</td>\n",
       "      <td>Winter</td>\n",
       "      <td>3</td>\n",
       "      <td>26</td>\n",
       "      <td>1.0</td>\n",
       "      <td>14.0</td>\n",
       "      <td>15</td>\n",
       "      <td>47.0</td>\n",
       "    </tr>\n",
       "    <tr>\n",
       "      <th>2</th>\n",
       "      <td>2000</td>\n",
       "      <td>Savage Garden</td>\n",
       "      <td>I Knew I Loved You</td>\n",
       "      <td>4,07,00 AM</td>\n",
       "      <td>Rock</td>\n",
       "      <td>October 23, 1999</td>\n",
       "      <td>January 29, 2000</td>\n",
       "      <td>71</td>\n",
       "      <td>48.0</td>\n",
       "      <td>43.0</td>\n",
       "      <td>...</td>\n",
       "      <td>1999-10-23</td>\n",
       "      <td>2000-01-29</td>\n",
       "      <td>14.0</td>\n",
       "      <td>Fall</td>\n",
       "      <td>2</td>\n",
       "      <td>33</td>\n",
       "      <td>1.0</td>\n",
       "      <td>70.0</td>\n",
       "      <td>71</td>\n",
       "      <td>47.0</td>\n",
       "    </tr>\n",
       "    <tr>\n",
       "      <th>3</th>\n",
       "      <td>2000</td>\n",
       "      <td>Madonna</td>\n",
       "      <td>Music</td>\n",
       "      <td>3,45,00 AM</td>\n",
       "      <td>Rock</td>\n",
       "      <td>August 12, 2000</td>\n",
       "      <td>September 16, 2000</td>\n",
       "      <td>41</td>\n",
       "      <td>23.0</td>\n",
       "      <td>18.0</td>\n",
       "      <td>...</td>\n",
       "      <td>2000-08-12</td>\n",
       "      <td>2000-09-16</td>\n",
       "      <td>5.0</td>\n",
       "      <td>Summer</td>\n",
       "      <td>1</td>\n",
       "      <td>24</td>\n",
       "      <td>1.0</td>\n",
       "      <td>40.0</td>\n",
       "      <td>41</td>\n",
       "      <td>44.0</td>\n",
       "    </tr>\n",
       "    <tr>\n",
       "      <th>4</th>\n",
       "      <td>2000</td>\n",
       "      <td>Aguilera, Christina</td>\n",
       "      <td>Come On Over Baby (All I Want Is You)</td>\n",
       "      <td>3,38,00 AM</td>\n",
       "      <td>Rock</td>\n",
       "      <td>August 5, 2000</td>\n",
       "      <td>October 14, 2000</td>\n",
       "      <td>57</td>\n",
       "      <td>47.0</td>\n",
       "      <td>45.0</td>\n",
       "      <td>...</td>\n",
       "      <td>2000-08-05</td>\n",
       "      <td>2000-10-14</td>\n",
       "      <td>10.0</td>\n",
       "      <td>Summer</td>\n",
       "      <td>1</td>\n",
       "      <td>21</td>\n",
       "      <td>1.0</td>\n",
       "      <td>56.0</td>\n",
       "      <td>57</td>\n",
       "      <td>44.0</td>\n",
       "    </tr>\n",
       "  </tbody>\n",
       "</table>\n",
       "<p>5 rows × 85 columns</p>\n",
       "</div>"
      ],
      "text/plain": [
       "   year      artist.inverted                                  track  \\\n",
       "0  2000      Destiny's Child               Independent Women Part I   \n",
       "1  2000              Santana                           Maria, Maria   \n",
       "2  2000        Savage Garden                     I Knew I Loved You   \n",
       "3  2000              Madonna                                  Music   \n",
       "4  2000  Aguilera, Christina  Come On Over Baby (All I Want Is You)   \n",
       "\n",
       "         time genre        date.entered         date.peaked  x1st.week  \\\n",
       "0  3,38,00 AM  Rock  September 23, 2000   November 18, 2000         78   \n",
       "1  4,18,00 AM  Rock   February 12, 2000       April 8, 2000         15   \n",
       "2  4,07,00 AM  Rock    October 23, 1999    January 29, 2000         71   \n",
       "3  3,45,00 AM  Rock     August 12, 2000  September 16, 2000         41   \n",
       "4  3,38,00 AM  Rock      August 5, 2000    October 14, 2000         57   \n",
       "\n",
       "   x2nd.week  x3rd.week    ...      date_entered  date_peaked  weeks_to_peak  \\\n",
       "0       63.0       49.0    ...        2000-09-23   2000-11-18            8.0   \n",
       "1        8.0        6.0    ...        2000-02-12   2000-04-08            8.0   \n",
       "2       48.0       43.0    ...        1999-10-23   2000-01-29           14.0   \n",
       "3       23.0       18.0    ...        2000-08-12   2000-09-16            5.0   \n",
       "4       47.0       45.0    ...        2000-08-05   2000-10-14           10.0   \n",
       "\n",
       "   season  season_cat  weeks_on_billboard  highest_rank  ranks_climbed  \\\n",
       "0    Fall           2                  28           1.0           77.0   \n",
       "1  Winter           3                  26           1.0           14.0   \n",
       "2    Fall           2                  33           1.0           70.0   \n",
       "3  Summer           1                  24           1.0           40.0   \n",
       "4  Summer           1                  21           1.0           56.0   \n",
       "\n",
       "   rank_entered  last_rank  \n",
       "0            78       31.0  \n",
       "1            15       47.0  \n",
       "2            71       47.0  \n",
       "3            41       44.0  \n",
       "4            57       44.0  \n",
       "\n",
       "[5 rows x 85 columns]"
      ]
     },
     "execution_count": 73,
     "metadata": {},
     "output_type": "execute_result"
    }
   ],
   "source": [
    "df.head()"
   ]
  },
  {
   "cell_type": "markdown",
   "metadata": {},
   "source": [
    "### j. Getting a clean data frame"
   ]
  },
  {
   "cell_type": "code",
   "execution_count": 74,
   "metadata": {
    "collapsed": true
   },
   "outputs": [],
   "source": [
    "df2 = df.copy()\n",
    "columns = ['artist.inverted', 'track', 'track_length_seconds', 'genre_clean', 'genre_cat', 'date_entered', \\\n",
    "           'date_peaked', 'season', 'season_cat','weeks_to_peak', 'weeks_on_billboard', 'rank_entered', \\\n",
    "           'highest_rank', 'ranks_climbed', 'last_rank',\\\n",
    "           'x1st.week', 'x2nd.week', 'x3rd.week', 'x4th.week', 'x5th.week', 'x6th.week', 'x7th.week', 'x8th.week', \\\n",
    "           'x9th.week', 'x10th.week', 'x11th.week', 'x12th.week', 'x13th.week', 'x14th.week', 'x15th.week', \\\n",
    "           'x16th.week', 'x17th.week', 'x18th.week', 'x19th.week', 'x20th.week', 'x21st.week', 'x22nd.week', \\\n",
    "           'x23rd.week', 'x24th.week', 'x25th.week', 'x26th.week', 'x27th.week', 'x28th.week', 'x29th.week', \\\n",
    "           'x30th.week', 'x31st.week', 'x32nd.week', 'x33rd.week', 'x34th.week', 'x35th.week', 'x36th.week', \\\n",
    "           'x37th.week', 'x38th.week', 'x39th.week', 'x40th.week', 'x41st.week', 'x42nd.week', 'x43rd.week', \\\n",
    "           'x44th.week', 'x45th.week', 'x46th.week', 'x47th.week', 'x48th.week', 'x49th.week', 'x50th.week', \\\n",
    "           'x51st.week', 'x52nd.week', 'x53rd.week', 'x54th.week', 'x55th.week', 'x56th.week', 'x57th.week', \\\n",
    "           'x58th.week', 'x59th.week', 'x60th.week', 'x61st.week', 'x62nd.week', 'x63rd.week', 'x64th.week', \\\n",
    "           'x65th.week']"
   ]
  },
  {
   "cell_type": "code",
   "execution_count": 75,
   "metadata": {
    "collapsed": true
   },
   "outputs": [],
   "source": [
    "df2 = df2[columns]"
   ]
  },
  {
   "cell_type": "code",
   "execution_count": 76,
   "metadata": {
    "collapsed": false
   },
   "outputs": [
    {
     "data": {
      "text/plain": [
       "(317, 80)"
      ]
     },
     "execution_count": 76,
     "metadata": {},
     "output_type": "execute_result"
    }
   ],
   "source": [
    "df2.shape"
   ]
  },
  {
   "cell_type": "markdown",
   "metadata": {},
   "source": [
    "## 7. Visualizing the data"
   ]
  },
  {
   "cell_type": "raw",
   "metadata": {},
   "source": [
    "pair_col = ['track_length_seconds', 'genre_cat', 'date_entered', 'date_peaked', 'season_cat',\\\n",
    "            'weeks_to_peak', 'weeks_on_billboard', 'rank_entered',\\\n",
    "            'highest_rank', 'ranks_climbed', 'last_rank']\n",
    "sns.pairplot(df2[pair_col])"
   ]
  },
  {
   "cell_type": "code",
   "execution_count": 130,
   "metadata": {
    "collapsed": true
   },
   "outputs": [],
   "source": [
    "dist_cols = ['track_length_seconds', 'weeks_to_peak', 'weeks_on_billboard',\\\n",
    "     'rank_entered', 'highest_rank', 'ranks_climbed', 'last_rank']"
   ]
  },
  {
   "cell_type": "code",
   "execution_count": 151,
   "metadata": {
    "collapsed": false
   },
   "outputs": [
    {
     "data": {
      "image/png": "[encoded data removed]",
      "text/plain": [
       "<matplotlib.figure.Figure at 0x122c18bd0>"
      ]
     },
     "metadata": {},
     "output_type": "display_data"
    }
   ],
   "source": [
    "fig, ax = plt.subplots(3,3, figsize=(15,15));\n",
    "for i in range(len(dist_cols)):\n",
    "    r = i/3\n",
    "    c = i - (r*3)\n",
    "    ax[r][c] = sns.distplot(df2[dist_cols[i]], ax=ax[r][c]);\n",
    "    ax[r][c].set_title(dist_cols[i]);\n"
   ]
  },
  {
   "cell_type": "code",
   "execution_count": 127,
   "metadata": {
    "collapsed": false
   },
   "outputs": [
    {
     "data": {
      "image/png": "[encoded data removed]",
      "text/plain": [
       "<matplotlib.figure.Figure at 0x125bd10d0>"
      ]
     },
     "metadata": {},
     "output_type": "display_data"
    }
   ],
   "source": [
    "sns.distplot(df2['weeks_to_peak']);"
   ]
  },
  {
   "cell_type": "code",
   "execution_count": 129,
   "metadata": {
    "collapsed": false
   },
   "outputs": [
    {
     "data": {
      "image/png": "[encoded data removed]",
      "text/plain": [
       "<matplotlib.figure.Figure at 0x123d4ea90>"
      ]
     },
     "metadata": {},
     "output_type": "display_data"
    }
   ],
   "source": [
    "sns.distplot(df2['weeks_on_billboard']);"
   ]
  },
  {
   "cell_type": "markdown",
   "metadata": {},
   "source": [
    "## 7. What does the data tell us?"
   ]
  },
  {
   "cell_type": "markdown",
   "metadata": {},
   "source": [
    "### a. What's almost immediately apparent?"
   ]
  },
  {
   "cell_type": "code",
   "execution_count": 123,
   "metadata": {
    "collapsed": false
   },
   "outputs": [
    {
     "data": {
      "text/html": [
       "<div>\n",
       "<table border=\"1\" class=\"dataframe\">\n",
       "  <thead>\n",
       "    <tr style=\"text-align: right;\">\n",
       "      <th></th>\n",
       "      <th>track_length_seconds</th>\n",
       "      <th>weeks_to_peak</th>\n",
       "      <th>weeks_on_billboard</th>\n",
       "      <th>rank_entered</th>\n",
       "      <th>highest_rank</th>\n",
       "      <th>ranks_climbed</th>\n",
       "      <th>last_rank</th>\n",
       "    </tr>\n",
       "  </thead>\n",
       "  <tbody>\n",
       "    <tr>\n",
       "      <th>count</th>\n",
       "      <td>317.000000</td>\n",
       "      <td>317.000000</td>\n",
       "      <td>317.000000</td>\n",
       "      <td>317.000000</td>\n",
       "      <td>317.000000</td>\n",
       "      <td>317.000000</td>\n",
       "      <td>317.000000</td>\n",
       "    </tr>\n",
       "    <tr>\n",
       "      <th>mean</th>\n",
       "      <td>242.425868</td>\n",
       "      <td>7.463722</td>\n",
       "      <td>16.741325</td>\n",
       "      <td>79.958991</td>\n",
       "      <td>44.123028</td>\n",
       "      <td>35.835962</td>\n",
       "      <td>80.804416</td>\n",
       "    </tr>\n",
       "    <tr>\n",
       "      <th>std</th>\n",
       "      <td>42.401618</td>\n",
       "      <td>5.838229</td>\n",
       "      <td>9.083785</td>\n",
       "      <td>14.686865</td>\n",
       "      <td>29.223722</td>\n",
       "      <td>25.061031</td>\n",
       "      <td>21.518896</td>\n",
       "    </tr>\n",
       "    <tr>\n",
       "      <th>min</th>\n",
       "      <td>156.000000</td>\n",
       "      <td>0.000000</td>\n",
       "      <td>1.000000</td>\n",
       "      <td>15.000000</td>\n",
       "      <td>1.000000</td>\n",
       "      <td>-0.000000</td>\n",
       "      <td>28.000000</td>\n",
       "    </tr>\n",
       "    <tr>\n",
       "      <th>25%</th>\n",
       "      <td>219.000000</td>\n",
       "      <td>3.000000</td>\n",
       "      <td>10.000000</td>\n",
       "      <td>74.000000</td>\n",
       "      <td>20.000000</td>\n",
       "      <td>14.000000</td>\n",
       "      <td>62.000000</td>\n",
       "    </tr>\n",
       "    <tr>\n",
       "      <th>50%</th>\n",
       "      <td>236.000000</td>\n",
       "      <td>7.000000</td>\n",
       "      <td>18.000000</td>\n",
       "      <td>81.000000</td>\n",
       "      <td>42.000000</td>\n",
       "      <td>33.000000</td>\n",
       "      <td>92.000000</td>\n",
       "    </tr>\n",
       "    <tr>\n",
       "      <th>75%</th>\n",
       "      <td>257.000000</td>\n",
       "      <td>10.000000</td>\n",
       "      <td>20.000000</td>\n",
       "      <td>91.000000</td>\n",
       "      <td>70.000000</td>\n",
       "      <td>56.000000</td>\n",
       "      <td>97.000000</td>\n",
       "    </tr>\n",
       "    <tr>\n",
       "      <th>max</th>\n",
       "      <td>470.000000</td>\n",
       "      <td>45.000000</td>\n",
       "      <td>57.000000</td>\n",
       "      <td>100.000000</td>\n",
       "      <td>99.000000</td>\n",
       "      <td>97.000000</td>\n",
       "      <td>100.000000</td>\n",
       "    </tr>\n",
       "  </tbody>\n",
       "</table>\n",
       "</div>"
      ],
      "text/plain": [
       "       track_length_seconds  weeks_to_peak  weeks_on_billboard  rank_entered  \\\n",
       "count            317.000000     317.000000          317.000000    317.000000   \n",
       "mean             242.425868       7.463722           16.741325     79.958991   \n",
       "std               42.401618       5.838229            9.083785     14.686865   \n",
       "min              156.000000       0.000000            1.000000     15.000000   \n",
       "25%              219.000000       3.000000           10.000000     74.000000   \n",
       "50%              236.000000       7.000000           18.000000     81.000000   \n",
       "75%              257.000000      10.000000           20.000000     91.000000   \n",
       "max              470.000000      45.000000           57.000000    100.000000   \n",
       "\n",
       "       highest_rank  ranks_climbed   last_rank  \n",
       "count    317.000000     317.000000  317.000000  \n",
       "mean      44.123028      35.835962   80.804416  \n",
       "std       29.223722      25.061031   21.518896  \n",
       "min        1.000000      -0.000000   28.000000  \n",
       "25%       20.000000      14.000000   62.000000  \n",
       "50%       42.000000      33.000000   92.000000  \n",
       "75%       70.000000      56.000000   97.000000  \n",
       "max       99.000000      97.000000  100.000000  "
      ]
     },
     "execution_count": 123,
     "metadata": {},
     "output_type": "execute_result"
    }
   ],
   "source": [
    "df2[['track_length_seconds', 'weeks_to_peak', 'weeks_on_billboard',\\\n",
    "     'rank_entered', 'highest_rank', 'ranks_climbed', 'last_rank']].describe()"
   ]
  },
  {
   "cell_type": "markdown",
   "metadata": {},
   "source": [
    "Although there are other columns with numerical data, only the above columns actually refer to a component of the data that could be continuous."
   ]
  },
  {
   "cell_type": "code",
   "execution_count": 124,
   "metadata": {
    "collapsed": false
   },
   "outputs": [
    {
     "data": {
      "text/plain": [
       "17"
      ]
     },
     "execution_count": 124,
     "metadata": {},
     "output_type": "execute_result"
    }
   ],
   "source": [
    "df2['highest_rank'][df2['highest_rank'] == 1.0].count()"
   ]
  },
  {
   "cell_type": "markdown",
   "metadata": {},
   "source": [
    "- 'weeks_to_peak' has a minimum value of 0\n",
    "    - There are tracks which hit Number 1 the moment they got into top 100\n",
    "- 'weeks_to_peak' has a median value of 7\n",
    "    - On average, it takes a track 7 weeks to hit its highest rank\n",
    "- 'weeks_on_billboard' has a median value of 18\n",
    "    - On average, tracks stayed in the top 100 for 18 weeks\n",
    "- 'weeks_on_billboard' has a minimum value of 1\n",
    "    - There are track(s) which were only in the top 100 for a week\n",
    "- 'rank_entered'\n",
    "- only 17 tracks reached the number 1 spot\n"
   ]
  },
  {
   "cell_type": "markdown",
   "metadata": {},
   "source": [
    "### b. What else can we find out?"
   ]
  },
  {
   "cell_type": "markdown",
   "metadata": {},
   "source": [
    "#### For the tracks that got to number 1, how long did they take?"
   ]
  },
  {
   "cell_type": "code",
   "execution_count": null,
   "metadata": {
    "collapsed": false
   },
   "outputs": [],
   "source": [
    "df[['weeks_to_peak']][df['highest_rank'] == 1.0].describe()"
   ]
  },
  {
   "cell_type": "markdown",
   "metadata": {},
   "source": [
    "#### What is the highest rank obtained by each genre and how many tracks of each genre hit the top 100?"
   ]
  },
  {
   "cell_type": "code",
   "execution_count": null,
   "metadata": {
    "collapsed": false
   },
   "outputs": [],
   "source": [
    "pd.pivot_table(df, index=['genre_clean'], values=['highest_rank'],aggfunc=[min, len], margins=True)"
   ]
  },
  {
   "cell_type": "markdown",
   "metadata": {},
   "source": [
    "#### Going back to our problem statements"
   ]
  },
  {
   "cell_type": "markdown",
   "metadata": {},
   "source": [
    "- Does the genre of a song affect how long it takes to peak in the top 100?\n",
    "- Does the length of a song affect how long it takes to peak in the top 100?\n",
    "- Does the amount of time a song takes to peak affect how long it stays in the top 100?"
   ]
  },
  {
   "cell_type": "code",
   "execution_count": null,
   "metadata": {
    "collapsed": false
   },
   "outputs": [],
   "source": [
    "sns.pairplot(df.iloc[:,[7,72,73,74,75,76,77,78, 79]]);"
   ]
  },
  {
   "cell_type": "code",
   "execution_count": null,
   "metadata": {
    "collapsed": false
   },
   "outputs": [],
   "source": [
    "genre_cats = df['genre_cat'].unique()\n",
    "\n",
    "def draw_dist_plots(df, col):\n",
    "    fig, ax = plt.subplots(2,3, figsize=(16,8), sharey=True);\n",
    "    for i in genre_cats:\n",
    "        if i < 3:\n",
    "            r = 0\n",
    "            c = i\n",
    "        else:\n",
    "            r = 1\n",
    "            c = i - 3\n",
    "        sns.distplot(df[[col]][df['genre_cat']==i], ax=ax[r][c]);\n",
    "        ax[r][c].set_title(genres[i]);"
   ]
  },
  {
   "cell_type": "code",
   "execution_count": null,
   "metadata": {
    "collapsed": false
   },
   "outputs": [],
   "source": [
    "draw_dist_plots(df, 'weeks_to_peak')"
   ]
  },
  {
   "cell_type": "code",
   "execution_count": null,
   "metadata": {
    "collapsed": false
   },
   "outputs": [],
   "source": [
    "draw_dist_plots(df, 'weeks_on_billboard')"
   ]
  },
  {
   "cell_type": "code",
   "execution_count": null,
   "metadata": {
    "collapsed": false
   },
   "outputs": [],
   "source": [
    "draw_dist_plots(df, 'highest_rank')"
   ]
  },
  {
   "cell_type": "code",
   "execution_count": null,
   "metadata": {
    "collapsed": false
   },
   "outputs": [],
   "source": [
    "fig, ax = plt.subplots(figsize=(10,5))\n",
    "sns.heatmap(df.iloc[:,72:].corr(), linewidths=.5, ax= ax);"
   ]
  },
  {
   "cell_type": "code",
   "execution_count": null,
   "metadata": {
    "collapsed": true
   },
   "outputs": [],
   "source": []
  },
  {
   "cell_type": "code",
   "execution_count": null,
   "metadata": {
    "collapsed": true
   },
   "outputs": [],
   "source": []
  },
  {
   "cell_type": "code",
   "execution_count": null,
   "metadata": {
    "collapsed": true
   },
   "outputs": [],
   "source": []
  },
  {
   "cell_type": "code",
   "execution_count": null,
   "metadata": {
    "collapsed": true
   },
   "outputs": [],
   "source": []
  },
  {
   "cell_type": "code",
   "execution_count": null,
   "metadata": {
    "collapsed": true
   },
   "outputs": [],
   "source": []
  },
  {
   "cell_type": "code",
   "execution_count": null,
   "metadata": {
    "collapsed": true
   },
   "outputs": [],
   "source": []
  },
  {
   "cell_type": "code",
   "execution_count": null,
   "metadata": {
    "collapsed": false
   },
   "outputs": [],
   "source": [
    "pd.melt(df, id_vars=['track','genre'],value_vars=['weeks_to_peak', 'highest_rank'])"
   ]
  },
  {
   "cell_type": "code",
   "execution_count": null,
   "metadata": {
    "collapsed": false
   },
   "outputs": [],
   "source": [
    "df.to_csv(path_or_buf='billboards2.csv')"
   ]
  },
  {
   "cell_type": "code",
   "execution_count": null,
   "metadata": {
    "collapsed": true
   },
   "outputs": [],
   "source": []
  }
 ],
 "metadata": {
  "kernelspec": {
   "display_name": "Python 2",
   "language": "python",
   "name": "python2"
  },
  "language_info": {
   "codemirror_mode": {
    "name": "ipython",
    "version": 2
   },
   "file_extension": ".py",
   "mimetype": "text/x-python",
   "name": "python",
   "nbconvert_exporter": "python",
   "pygments_lexer": "ipython2",
   "version": "2.7.12"
  }
 },
 "nbformat": 4,
 "nbformat_minor": 0
}
